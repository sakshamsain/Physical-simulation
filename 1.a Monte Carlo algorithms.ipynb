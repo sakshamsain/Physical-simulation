{
 "cells": [
  {
   "cell_type": "markdown",
   "metadata": {},
   "source": [
    "# *Introduction to Monte Carlo Algorithms*\n",
    "\n",
    "## Calculation of $\\pi$"
   ]
  },
  {
   "cell_type": "markdown",
   "metadata": {},
   "source": [
    "### Direct Sampling:\n",
    "Calculation of $\\pi$ with Monte Carlo algorithm using direct sampling and the calculation of rms deviation."
   ]
  },
  {
   "cell_type": "code",
   "execution_count": 23,
   "metadata": {},
   "outputs": [
    {
     "name": "stdout",
     "output_type": "stream",
     "text": [
      "Populating the interactive namespace from numpy and matplotlib\n",
      "3.138\n",
      "3.153\n",
      "3.139\n",
      "3.152\n",
      "3.168\n",
      "3.115\n",
      "3.16\n",
      "3.176\n",
      "3.185\n",
      "3.161\n"
     ]
    },
    {
     "data": {
      "image/png": "[encoded data removed]",
      "text/plain": [
       "<Figure size 432x288 with 1 Axes>"
      ]
     },
     "metadata": {},
     "output_type": "display_data"
    }
   ],
   "source": [
    "%pylab inline\n",
    "import random, math\n",
    " \n",
    "def direct_pi(N):\n",
    "    n_hits = 0\n",
    "    for i in range(N):\n",
    "        x, y = random.uniform(-1.0, 1.0), random.uniform(-1.0, 1.0)\n",
    "        if x ** 2 + y ** 2 < 1.0:\n",
    "            n_hits += 1\n",
    "    return n_hits\n",
    " \n",
    "n_runs = 10\n",
    "n_trials = 4000\n",
    "for run in range(n_runs):\n",
    "    print 4.0 * direct_pi(n_trials) / float(n_trials)\n",
    "\n",
    "#Calculation of rms deviation for 500 runs:\n",
    "n_runs = 100\n",
    "n_trials_list = []\n",
    "sigmasqs = []\n",
    "for poweroftwo in range(4, 13):\n",
    "    n_trials = 2 ** poweroftwo\n",
    "    sigmasq = 0.0\n",
    "    for run in range(n_runs):\n",
    "        pi_est = 4.0 * direct_pi(n_trials) / float(n_trials)\n",
    "        sigmasq += (pi_est - math.pi) ** 2\n",
    "    sigmasqs.append(math.sqrt(sigmasq/(n_runs)))\n",
    "    n_trials_list.append(n_trials)\n",
    "\n",
    "pylab.plot(n_trials_list, sigmasqs, 'o')\n",
    "pylab.plot([10.0, 10000.0], [1.642 / math.sqrt(10.0), 1.642 / math.sqrt(10000.0)])\n",
    "pylab.xscale('log')\n",
    "pylab.yscale('log')\n",
    "pylab.xlabel('number of trials')\n",
    "pylab.ylabel('root mean square deviation')\n",
    "pylab.title('Direct sampling of pi: root mean square deviation vs. n_trials')\n",
    "pylab.savefig('direct_sampling_rms_deviation.png')\n",
    "pylab.show()"
   ]
  },
  {
   "cell_type": "markdown",
   "metadata": {},
   "source": [
    "Bunching method to calculate the error without knowing the value of $\\pi$."
   ]
  },
  {
   "cell_type": "code",
   "execution_count": 10,
   "metadata": {},
   "outputs": [
    {
     "name": "stdout",
     "output_type": "stream",
     "text": [
      "3.14122 1.64244240401 1.64244236172\n"
     ]
    }
   ],
   "source": [
    "import random, math\n",
    "n_trials = 400000\n",
    "n_hits = 0\n",
    "var = 0.0\n",
    "var_est = 0.0\n",
    "Obs_exp = 0.0\n",
    "Obs2_exp = 0.0\n",
    "for iter in range(n_trials):\n",
    "    x, y = random.uniform(-1.0, 1.0), random.uniform(-1.0, 1.0)\n",
    "    Obs = 0.0\n",
    "    if x**2 + y**2 < 1.0:\n",
    "        n_hits += 1\n",
    "        Obs = 4.0\n",
    "    Obs_exp+=Obs/n_trials #expectation value of the observable\n",
    "    Obs2_exp+=(Obs)**2/n_trials #expectation value of the square of the observable\n",
    "    var+=(Obs-math.pi)**2/n_trials #calculation of the variance if the value of pi had been known beforehand    \n",
    "var_est = Obs2_exp - Obs_exp**2 #best estimate to the variance\n",
    "print 4.0 * n_hits / float(n_trials), math.sqrt(var), math.sqrt(var_est)"
   ]
  },
  {
   "cell_type": "markdown",
   "metadata": {},
   "source": [
    "### Markov-chain Sampling:\n",
    "Calculation of $\\pi$ with Monte Carlo algorithm using Markov chain sampling, multiple runs."
   ]
  },
  {
   "cell_type": "code",
   "execution_count": 28,
   "metadata": {},
   "outputs": [
    {
     "name": "stdout",
     "output_type": "stream",
     "text": [
      "3.109\n",
      "3.178\n",
      "2.955\n",
      "3.107\n",
      "3.225\n",
      "3.161\n",
      "2.85\n",
      "3.397\n",
      "2.841\n",
      "2.97\n"
     ]
    }
   ],
   "source": [
    "import random\n",
    "\n",
    "def markov_pi(N, delta): \n",
    "    x, y = 1.0, 1.0\n",
    "    n_hits = 0\n",
    "    n_accept = 0\n",
    "    for i in range(N):\n",
    "        del_x, del_y = random.uniform(-delta, delta), random.uniform(-delta, delta)\n",
    "        if abs(x + del_x) < 1.0 and abs(y + del_y) < 1.0:\n",
    "            n_accept += 1\n",
    "            x, y = x + del_x, y + del_y\n",
    "        if x**2 + y**2 < 1.0: n_hits += 1\n",
    "    return n_hits\n",
    "\n",
    "n_runs = 10\n",
    "n_trials = 4000\n",
    "delta = 0.1\n",
    "for run in range(n_runs):\n",
    "    print 4.0 * markov_pi(n_trials, delta) / float(n_trials)"
   ]
  },
  {
   "cell_type": "code",
   "execution_count": 52,
   "metadata": {},
   "outputs": [
    {
     "name": "stdout",
     "output_type": "stream",
     "text": [
      "0.970458984375\n",
      "0.96240234375\n",
      "0.873046875\n",
      "0.747314453125\n",
      "0.548583984375\n",
      "0.24609375\n",
      "0.068359375\n"
     ]
    }
   ],
   "source": [
    "import random\n",
    "\n",
    "def markov_pi_acceptance(N, delta): \n",
    "    x, y = 1.0, 1.0\n",
    "    n_hits = 0\n",
    "    n_accept = 0\n",
    "    for i in range(N):\n",
    "        del_x, del_y = random.uniform(-delta, delta), random.uniform(-delta, delta)\n",
    "        if abs(x + del_x) < 1.0 and abs(y + del_y) < 1.0:\n",
    "            n_accept += 1\n",
    "            x, y = x + del_x, y + del_y\n",
    "        if x**2 + y**2 < 1.0: n_hits += 1\n",
    "    return n_accept\n",
    "\n",
    "n_runs = 1\n",
    "n_trials = 2**12\n",
    "for delta in [0.062,0.125,0.25,0.5,1.0,2.0,4.0]:\n",
    "    print markov_pi(n_trials, delta)/ float(n_trials)"
   ]
  },
  {
   "cell_type": "code",
   "execution_count": 54,
   "metadata": {},
   "outputs": [
    {
     "name": "stdout",
     "output_type": "stream",
     "text": [
      "Populating the interactive namespace from numpy and matplotlib\n"
     ]
    },
    {
     "data": {
      "image/png": "[encoded data removed]",
      "text/plain": [
       "<Figure size 432x288 with 1 Axes>"
      ]
     },
     "metadata": {},
     "output_type": "display_data"
    }
   ],
   "source": [
    "%pylab inline\n",
    "import random, math, pylab\n",
    "\n",
    "def markov_pi(N, delta):\n",
    "    x, y = 1.0, 1.0\n",
    "    n_hits = 0\n",
    "    for i in range(N):\n",
    "        del_x, del_y = random.uniform(-delta, delta), random.uniform(-delta, delta)\n",
    "        if abs(x + del_x) < 1.0 and abs(y + del_y) < 1.0:\n",
    "            x, y = x + del_x, y + del_y\n",
    "        if x**2 + y**2 < 1.0: n_hits += 1\n",
    "    return n_hits\n",
    "\n",
    "n_runs = 500\n",
    "for delta in [0.062, 0.125, 0.25, 0.5, 1.0, 2.0, 4.0]:\n",
    "    n_trials_list = []\n",
    "    sigmas = []\n",
    "    for poweroftwo in range(4, 13):\n",
    "        n_trials = 2 ** poweroftwo\n",
    "        sigma = 0.0\n",
    "        for run in range(n_runs):\n",
    "            pi_est = 4.0 * markov_pi(n_trials, delta) / float(n_trials)\n",
    "            sigma += (pi_est - math.pi) ** 2\n",
    "        sigmas.append(math.sqrt(sigma/(n_runs)))\n",
    "        n_trials_list.append(n_trials)\n",
    "    pylab.plot(n_trials_list, sigmas, 'o', ms = 8, label = '$\\delta = $' + str(delta))\n",
    "\n",
    "pylab.xscale('log')\n",
    "pylab.yscale('log')\n",
    "pylab.xlabel('number of trials')\n",
    "pylab.ylabel('root mean square deviation')\n",
    "pylab.plot([10,10000],[1.642 / math.sqrt(10.0), 1.642 / math.sqrt(10000.0)], label = 'direct')\n",
    "pylab.title('Markov-chain sampling of pi: root mean square deviation vs. n_trials')\n",
    "pylab.legend(loc='upper right')\n",
    "pylab.savefig('markov_sampling_rms_deviation.png')\n",
    "pylab.show()"
   ]
  },
  {
   "cell_type": "markdown",
   "metadata": {},
   "source": [
    "Bunching method for Markov-chain sampling. By this method, Markov-chain data are analyzed as direct-sampling ones and the error is underestimated at the beginning since the data is correlated, but that at later stages of the bunching they become more and more uncorrelated, just as direct-sampling data and the saturation (plateau) comes from the fact that the data are almost unrelated. For uncorrelated data, one has a plateau."
   ]
  },
  {
   "cell_type": "code",
   "execution_count": 23,
   "metadata": {},
   "outputs": [
    {
     "name": "stdout",
     "output_type": "stream",
     "text": [
      "Populating the interactive namespace from numpy and matplotlib\n",
      "3.15369415283 mean value, estimate of pi\n",
      "0.0121014992422 mean value, estimate of pi\n"
     ]
    },
    {
     "data": {
      "image/png": "[encoded data removed]",
      "text/plain": [
       "<Figure size 432x288 with 1 Axes>"
      ]
     },
     "metadata": {},
     "output_type": "display_data"
    }
   ],
   "source": [
    "%pylab inline\n",
    "import random, pylab, math\n",
    "\n",
    "def markov_pi_all_data(N, delta):\n",
    "    x, y = 1.0, 1.0\n",
    "    data = []\n",
    "    for i in range(N):\n",
    "        del_x, del_y = random.uniform(-delta, delta), random.uniform(-delta, delta)\n",
    "        if abs(x + del_x) < 1.0 and abs(y + del_y) < 1.0:\n",
    "            x, y = x + del_x, y + del_y\n",
    "        if x ** 2 + y ** 2 < 1.0:\n",
    "            data.append(4.0)\n",
    "        else:\n",
    "            data.append(0.0)\n",
    "    return data\n",
    "\n",
    "poweroftwo = 20\n",
    "n_trials = 2 ** poweroftwo\n",
    "delta = 0.1\n",
    "data = markov_pi_all_data(n_trials, delta)\n",
    "errors  = []\n",
    "bunches = []\n",
    "for i in range(poweroftwo):\n",
    "    new_data = []\n",
    "    mean = 0.0\n",
    "    mean_sq = 0.0\n",
    "    N = len(data)\n",
    "    while data != []:\n",
    "        x = data.pop()\n",
    "        y = data.pop()\n",
    "        mean += x + y\n",
    "        mean_sq += x ** 2 + y ** 2\n",
    "        new_data.append((x + y) / 2.0 )\n",
    "    errors.append(math.sqrt(mean_sq / N - (mean / N) ** 2) / math.sqrt(N))\n",
    "    bunches.append(i)\n",
    "    data = new_data[:]\n",
    "print mean / float(N), 'mean value, estimate of pi'\n",
    "print mean / float(N) - pi, 'mean value, estimate of pi'\n",
    "pylab.plot(bunches, errors, 'o')\n",
    "pylab.xlabel('iteration')\n",
    "pylab.ylabel('apparent error')\n",
    "pylab.title('Bunching: naive error vs iteration number')\n",
    "pylab.savefig('apparent_error_bunching.png')\n",
    "pylab.show()"
   ]
  },
  {
   "cell_type": "markdown",
   "metadata": {},
   "source": [
    "## The Pebble Game\n",
    "Simulation of the 3$\\times$3 pebble game with animation."
   ]
  },
  {
   "cell_type": "code",
   "execution_count": 22,
   "metadata": {},
   "outputs": [
    {
     "name": "stdout",
     "output_type": "stream",
     "text": [
      "Populating the interactive namespace from numpy and matplotlib\n"
     ]
    },
    {
     "data": {
      "image/png": "[encoded data removed]",
      "text/plain": [
       "<Figure size 864x576 with 1 Axes>"
      ]
     },
     "metadata": {},
     "output_type": "display_data"
    }
   ],
   "source": [
    "%pylab qt\n",
    "import random, pylab\n",
    "\n",
    "sigma = 0.4  # sigma and s_map are needed for the graphical output\n",
    "s_map = [(1.0, 1.0), (2.0, 1.0), (3.0, 1.0), \n",
    "         (1.0, 2.0), (2.0, 2.0), (3.0, 2.0), \n",
    "         (1.0, 3.0), (2.0, 3.0), (3.0, 3.0)] \n",
    "neighbor =  [[1, 3, 0, 0], [2, 4, 0, 1], [2, 5, 1, 2],\n",
    "             [4, 6, 3, 0], [5, 7, 3, 1], [5, 8, 4, 2],\n",
    "             [7, 6, 6, 3], [8, 7, 6, 4], [8, 8, 7, 5]]\n",
    "site = 8\n",
    "N_runs = 50\n",
    "for run in range(N_runs):\n",
    "    if run < 10: number_string = '0'+str(run)\n",
    "    else: number_string = str(run)\n",
    "    # Begin of graphical output\n",
    "    pylab.clf() #clears the previous figure\n",
    "    cir = pylab.Circle(s_map[site], radius=sigma, fc='r')\n",
    "    pylab.gca().add_patch(cir)\n",
    "    pylab.plot([0.5, 3.5], [1.5, 1.5], 'b')\n",
    "    pylab.plot([0.5, 3.5], [2.5, 2.5], 'b')\n",
    "    pylab.plot([1.5, 1.5], [0.5, 3.5], 'b')\n",
    "    pylab.plot([2.5, 2.5], [0.5, 3.5], 'b')\n",
    "    pylab.title('t = '+ number_string)\n",
    "    pylab.axis('scaled')\n",
    "    pylab.axis([0.5, 3.5, 0.5, 3.5])\n",
    "    pylab.xticks([])\n",
    "    pylab.yticks([])\n",
    "    pylab.pause(0.05) #Pause to generate a real time animation\n",
    "    pylab.show()\n",
    "    # End of graphical output\n",
    "    site = neighbor[site][ random.randint(0, 3)]"
   ]
  },
  {
   "cell_type": "markdown",
   "metadata": {},
   "source": [
    "Basic pebble throw game with homogeneous steady state probabilities. Multiple runs. The probability of landing on each grid element after a specified number of runs is visualised by a two dimensional histogram."
   ]
  },
  {
   "cell_type": "code",
   "execution_count": 3,
   "metadata": {},
   "outputs": [
    {
     "name": "stdout",
     "output_type": "stream",
     "text": [
      "7\n",
      "7\n",
      "7\n",
      "7\n",
      "4\n",
      "2\n",
      "7\n",
      "6\n",
      "4\n",
      "6\n"
     ]
    }
   ],
   "source": [
    "import random\n",
    "\n",
    "#define the grid in terms of transitions:[0=right,1=up,2=left,3=down]\n",
    "neighbor =  [[1, 3, 0, 0], [2, 4, 0, 1], [2, 5, 1, 2],\n",
    "             [4, 6, 3, 0], [5, 7, 3, 1], [5, 8, 4, 2],\n",
    "             [7, 6, 6, 3], [8, 7, 6, 4], [8, 8, 7, 5]] \n",
    "t_max = 4 #maximum number of pebble throws at each run\n",
    "N_runs = 10 #number of runs\n",
    "for run in range(N_runs): #run many times\n",
    "    site = 8 #initial site\n",
    "    t = 0 #initialise time\n",
    "    while t < t_max: #a pebble game of t_max throws\n",
    "        t += 1\n",
    "        site = neighbor[site][random.randint(0, 3)] #Pick a random transition from the initial site\n",
    "    print site #prints the final site after t_max throws in each run"
   ]
  },
  {
   "cell_type": "code",
   "execution_count": 2,
   "metadata": {},
   "outputs": [
    {
     "name": "stdout",
     "output_type": "stream",
     "text": [
      "[[0.   0.   2.25]\n",
      " [0.   0.   0.  ]\n",
      " [0.   0.   0.  ]]\n",
      "[[0. 0. 1.]\n",
      " [0. 0. 0.]\n",
      " [0. 0. 0.]]\n",
      "[[0.        0.5585625 1.1299725]\n",
      " [0.        0.        0.561465 ]\n",
      " [0.        0.        0.       ]]\n",
      "[[0.      0.24825 0.50221]\n",
      " [0.      0.      0.24954]\n",
      " [0.      0.      0.     ]]\n",
      "[[0.137655  0.4276125 0.841815 ]\n",
      " [0.        0.2833425 0.419985 ]\n",
      " [0.        0.        0.13959  ]]\n",
      "[[0.06118 0.19005 0.37414]\n",
      " [0.      0.12593 0.18666]\n",
      " [0.      0.      0.06204]]\n",
      "[[0.1775925 0.4267125 0.6258825]\n",
      " [0.10782   0.212625  0.4200525]\n",
      " [0.        0.1052325 0.1740825]]\n",
      "[[0.07893 0.18965 0.27817]\n",
      " [0.04792 0.0945  0.18669]\n",
      " [0.      0.04677 0.07737]]\n",
      "[[0.2203875 0.358515  0.5262525]\n",
      " [0.1221075 0.26874   0.360585 ]\n",
      " [0.052425  0.1224675 0.21852  ]]\n",
      "[[0.09795 0.15934 0.23389]\n",
      " [0.05427 0.11944 0.16026]\n",
      " [0.0233  0.05443 0.09712]]\n",
      "[[0.2317275 0.3440025 0.44424  ]\n",
      " [0.1649925 0.2417625 0.33723  ]\n",
      " [0.0882    0.1676925 0.2301525]]\n",
      "[[0.10299 0.15289 0.19744]\n",
      " [0.07333 0.10745 0.14988]\n",
      " [0.0392  0.07453 0.10229]]\n",
      "[[0.2418075 0.311715  0.39024  ]\n",
      " [0.18441   0.2544525 0.31446  ]\n",
      " [0.12519   0.18315   0.244575 ]]\n",
      "[[0.10747 0.13854 0.17344]\n",
      " [0.08196 0.11309 0.13976]\n",
      " [0.05564 0.0814  0.1087 ]]\n",
      "[[0.2434725 0.3036825 0.356175 ]\n",
      " [0.19872   0.2446875 0.304065 ]\n",
      " [0.152775  0.20106   0.2453625]]\n",
      "[[0.10821 0.13497 0.1583 ]\n",
      " [0.08832 0.10875 0.13514]\n",
      " [0.0679  0.08936 0.10905]]\n",
      "[[0.2458575 0.287865  0.3297825]\n",
      " [0.20898   0.248625  0.2894625]\n",
      " [0.18018   0.2109375 0.24831  ]]\n",
      "[[0.10927 0.12794 0.14657]\n",
      " [0.09288 0.1105  0.12865]\n",
      " [0.08008 0.09375 0.11036]]\n",
      "[[0.2522925 0.2791125 0.2991825]\n",
      " [0.2209725 0.24426   0.28458  ]\n",
      " [0.1943325 0.2231775 0.25209  ]]\n",
      "[[0.11213 0.12405 0.13297]\n",
      " [0.09821 0.10856 0.12648]\n",
      " [0.08637 0.09919 0.11204]]\n"
     ]
    }
   ],
   "source": [
    "%matplotlib qt\n",
    "import random\n",
    "import numpy as np\n",
    "import matplotlib.pyplot as plt\n",
    "\n",
    "xvec = {1:3, 2:2, 3:1, 4:3, 5:2, 6:1, 7:3, 8:2, 9:1} \n",
    "yvec = {1:1, 2:1, 3:1, 4:2, 5:2, 6:2, 7:3, 8:3, 9:3} \n",
    "\n",
    "neighbor = {1 : [2, 4, 1, 1], 2 : [3, 5, 1, 2], 3 : [3, 6, 2, 3],\n",
    "            4 : [5, 7, 4, 1], 5 : [6, 8, 4, 2], 6 : [6, 9, 5, 3],\n",
    "            7 : [8, 7, 7, 4], 8 : [9, 8, 7, 5], 9 : [9, 9, 8, 6]}\n",
    "\n",
    "N_runs = 10\n",
    "for run in range(N_runs):\n",
    "    list_vec = []\n",
    "    if run < 10:  run_str= '0'+str(run)\n",
    "    else: run_str = str(run)\n",
    "    for n_runs in range(100000): \n",
    "        pos = 9\n",
    "        for iter in range(run):\n",
    "            pos = neighbor[pos][ random.randint(0, 3)]\n",
    "        list_vec.append(pos)\n",
    "\n",
    "    x = [xvec[k] for k in list_vec]\n",
    "    y = [yvec[k] for k in list_vec]\n",
    "\n",
    "    plt.xticks([])\n",
    "    plt.yticks([])\n",
    "    H, xedges, yedges = np.histogram2d(x, y, bins=(3, 3), \n",
    "               range=[[1,3],[1,3]], normed=True)\n",
    "    print H\n",
    "    H /= np.sum(H)\n",
    "    print H\n",
    "    extent = [yedges[0], yedges[-1], xedges[-1], xedges[0]]\n",
    "    plt.clf() #clears the previous figure\n",
    "    histo = plt.imshow(H, extent=extent, interpolation='nearest', vmin=0, vmax=1.00)\n",
    "    histo.set_cmap('hot')\n",
    "    plt.colorbar()\n",
    "    plt.title('t = '+str(run),fontsize=22)\n",
    "    plt.savefig('3x3_pebble_run_'+run_str+'.png')\n",
    "    plt.pause(0.05)\n",
    "    plt.show()"
   ]
  },
  {
   "cell_type": "markdown",
   "metadata": {},
   "source": [
    "## Transfer Matrix Method\n",
    "Exact simulation of the 3$\\times$3 pebble game can be done using the transfer matrix for 50 throws. The evolution of the probability vector indicates that at large times the effect of the multiplication by the transfer matrix on the probability vector is negligible compared to the changes at small times. That means that the equilibrium probability vector is an eigenvector of the transfer matrix with eigenvalue 1."
   ]
  },
  {
   "cell_type": "code",
   "execution_count": 1,
   "metadata": {},
   "outputs": [
    {
     "name": "stdout",
     "output_type": "stream",
     "text": [
      "0    ['0.00000', '0.00000', '0.00000', '0.00000', '0.00000', '0.00000', '0.00000', '0.00000', '1.00000']\n",
      "1    ['0.00000', '0.00000', '0.00000', '0.00000', '0.00000', '0.25000', '0.00000', '0.25000', '0.50000']\n",
      "2    ['0.00000', '0.00000', '0.06250', '0.00000', '0.12500', '0.18750', '0.06250', '0.18750', '0.37500']\n",
      "3    ['0.00000', '0.04688', '0.07812', '0.04688', '0.09375', '0.18750', '0.07812', '0.18750', '0.28125']\n",
      "4    ['0.02344', '0.05469', '0.09766', '0.05469', '0.11719', '0.16016', '0.09766', '0.16016', '0.23438']\n",
      "5    ['0.03906', '0.07324', '0.10254', '0.07324', '0.10742', '0.15234', '0.10254', '0.15234', '0.19727']\n",
      "6    ['0.05615', '0.08057', '0.10767', '0.08057', '0.11279', '0.13989', '0.10767', '0.13989', '0.17480']\n",
      "7    ['0.06836', '0.08929', '0.10895', '0.08929', '0.11023', '0.13379', '0.10895', '0.13379', '0.15735']\n",
      "8    ['0.07883', '0.09421', '0.11024', '0.09421', '0.11154', '0.12758', '0.11024', '0.12758', '0.14557']\n",
      "9    ['0.08652', '0.09871', '0.11057', '0.09871', '0.11089', '0.12373', '0.11057', '0.12373', '0.13657']\n",
      "10    ['0.09261', '0.10167', '0.11089', '0.10167', '0.11122', '0.12044', '0.11089', '0.12044', '0.13015']\n",
      "11    ['0.09714', '0.10410', '0.11098', '0.10410', '0.11106', '0.11818', '0.11098', '0.11818', '0.12530']\n",
      "12    ['0.10062', '0.10582', '0.11106', '0.10582', '0.11114', '0.11638', '0.11106', '0.11638', '0.12174']\n",
      "13    ['0.10322', '0.10716', '0.11108', '0.10716', '0.11110', '0.11508', '0.11108', '0.11508', '0.11906']\n",
      "14    ['0.10519', '0.10814', '0.11110', '0.10814', '0.11112', '0.11408', '0.11110', '0.11408', '0.11707']\n",
      "15    ['0.10666', '0.10889', '0.11110', '0.10889', '0.11111', '0.11334', '0.11110', '0.11334', '0.11557']\n",
      "16    ['0.10777', '0.10944', '0.11111', '0.10944', '0.11111', '0.11278', '0.11111', '0.11278', '0.11446']\n",
      "17    ['0.10861', '0.10986', '0.11111', '0.10986', '0.11111', '0.11236', '0.11111', '0.11236', '0.11362']\n",
      "18    ['0.10923', '0.11017', '0.11111', '0.11017', '0.11111', '0.11205', '0.11111', '0.11205', '0.11299']\n",
      "19    ['0.10970', '0.11041', '0.11111', '0.11041', '0.11111', '0.11182', '0.11111', '0.11182', '0.11252']\n",
      "20    ['0.11005', '0.11058', '0.11111', '0.11058', '0.11111', '0.11164', '0.11111', '0.11164', '0.11217']\n",
      "21    ['0.11032', '0.11071', '0.11111', '0.11071', '0.11111', '0.11151', '0.11111', '0.11151', '0.11190']\n",
      "22    ['0.11052', '0.11081', '0.11111', '0.11081', '0.11111', '0.11141', '0.11111', '0.11141', '0.11171']\n",
      "23    ['0.11067', '0.11089', '0.11111', '0.11089', '0.11111', '0.11133', '0.11111', '0.11133', '0.11156']\n",
      "24    ['0.11078', '0.11094', '0.11111', '0.11094', '0.11111', '0.11128', '0.11111', '0.11128', '0.11145']\n",
      "25    ['0.11086', '0.11099', '0.11111', '0.11099', '0.11111', '0.11124', '0.11111', '0.11124', '0.11136']\n",
      "26    ['0.11092', '0.11102', '0.11111', '0.11102', '0.11111', '0.11121', '0.11111', '0.11121', '0.11130']\n",
      "27    ['0.11097', '0.11104', '0.11111', '0.11104', '0.11111', '0.11118', '0.11111', '0.11118', '0.11125']\n",
      "28    ['0.11101', '0.11106', '0.11111', '0.11106', '0.11111', '0.11116', '0.11111', '0.11116', '0.11122']\n",
      "29    ['0.11103', '0.11107', '0.11111', '0.11107', '0.11111', '0.11115', '0.11111', '0.11115', '0.11119']\n",
      "30    ['0.11105', '0.11108', '0.11111', '0.11108', '0.11111', '0.11114', '0.11111', '0.11114', '0.11117']\n",
      "31    ['0.11107', '0.11109', '0.11111', '0.11109', '0.11111', '0.11113', '0.11111', '0.11113', '0.11116']\n",
      "32    ['0.11108', '0.11109', '0.11111', '0.11109', '0.11111', '0.11113', '0.11111', '0.11113', '0.11114']\n",
      "33    ['0.11109', '0.11110', '0.11111', '0.11110', '0.11111', '0.11112', '0.11111', '0.11112', '0.11114']\n",
      "34    ['0.11109', '0.11110', '0.11111', '0.11110', '0.11111', '0.11112', '0.11111', '0.11112', '0.11113']\n",
      "35    ['0.11110', '0.11110', '0.11111', '0.11110', '0.11111', '0.11112', '0.11111', '0.11112', '0.11113']\n",
      "36    ['0.11110', '0.11111', '0.11111', '0.11111', '0.11111', '0.11112', '0.11111', '0.11112', '0.11112']\n",
      "37    ['0.11110', '0.11111', '0.11111', '0.11111', '0.11111', '0.11112', '0.11111', '0.11112', '0.11112']\n",
      "38    ['0.11111', '0.11111', '0.11111', '0.11111', '0.11111', '0.11111', '0.11111', '0.11111', '0.11112']\n",
      "39    ['0.11111', '0.11111', '0.11111', '0.11111', '0.11111', '0.11111', '0.11111', '0.11111', '0.11112']\n",
      "40    ['0.11111', '0.11111', '0.11111', '0.11111', '0.11111', '0.11111', '0.11111', '0.11111', '0.11111']\n",
      "41    ['0.11111', '0.11111', '0.11111', '0.11111', '0.11111', '0.11111', '0.11111', '0.11111', '0.11111']\n",
      "42    ['0.11111', '0.11111', '0.11111', '0.11111', '0.11111', '0.11111', '0.11111', '0.11111', '0.11111']\n",
      "43    ['0.11111', '0.11111', '0.11111', '0.11111', '0.11111', '0.11111', '0.11111', '0.11111', '0.11111']\n",
      "44    ['0.11111', '0.11111', '0.11111', '0.11111', '0.11111', '0.11111', '0.11111', '0.11111', '0.11111']\n",
      "45    ['0.11111', '0.11111', '0.11111', '0.11111', '0.11111', '0.11111', '0.11111', '0.11111', '0.11111']\n",
      "46    ['0.11111', '0.11111', '0.11111', '0.11111', '0.11111', '0.11111', '0.11111', '0.11111', '0.11111']\n",
      "47    ['0.11111', '0.11111', '0.11111', '0.11111', '0.11111', '0.11111', '0.11111', '0.11111', '0.11111']\n",
      "48    ['0.11111', '0.11111', '0.11111', '0.11111', '0.11111', '0.11111', '0.11111', '0.11111', '0.11111']\n",
      "49    ['0.11111', '0.11111', '0.11111', '0.11111', '0.11111', '0.11111', '0.11111', '0.11111', '0.11111']\n"
     ]
    }
   ],
   "source": [
    "import numpy\n",
    "\n",
    "neighbor =  [[1, 3, 0, 0], [2, 4, 0, 1], [2, 5, 1, 2],\n",
    "             [4, 6, 3, 0], [5, 7, 3, 1], [5, 8, 4, 2],\n",
    "             [7, 6, 6, 3], [8, 7, 6, 4], [8, 8, 7, 5]]\n",
    "\n",
    "transfer = numpy.zeros((9, 9)) #initialise the transfer matrix\n",
    "#the transfer matrix is constructed by adding the probabilities for all of the the terms \n",
    "#that contribute to a specific transition to determine each element in the matrix\n",
    "for k in range(9):\n",
    "    for neigh in range(4): transfer[neighbor[k][neigh], k] += 0.25 \n",
    "\n",
    "#initial probability vector: pebble is at position 8 with certainty\n",
    "position = numpy.zeros(9)\n",
    "position[8] = 1.0 \n",
    "for t in range(50):\n",
    "    print t,'  ',[\"%0.5f\" % i for i in position]\n",
    "    position = numpy.dot(transfer, position) #probability vector at time t"
   ]
  },
  {
   "cell_type": "markdown",
   "metadata": {},
   "source": [
    "Find all of the eigenvalues of the transfer matrix. What do the eigenvalues mean, apart from 1, which is associated with equilibrium?"
   ]
  },
  {
   "cell_type": "code",
   "execution_count": 14,
   "metadata": {},
   "outputs": [
    {
     "name": "stdout",
     "output_type": "stream",
     "text": [
      "[ 1.    0.75  0.75  0.5   0.25  0.25 -0.   -0.   -0.5 ]\n"
     ]
    }
   ],
   "source": [
    "np.set_printoptions(suppress=True) #suppress scientific format\n",
    "\n",
    "eigenvalues, eigenvectors = numpy.linalg.eig(transfer) #eigenvalues of the transfer matrix\n",
    "idx = np.argsort(-eigenvalues) #sort the eigenvalues in descending order\n",
    "eigenvalues = eigenvalues[idx]\n",
    "print eigenvalues #print the sorted eigenvalues\n",
    "# you may print the eigenvectors by uncommenting the following lines...\n",
    "#for iter in range(9):\n",
    "#    print eigenvalues[iter]\n",
    "#    for i in range(9):\n",
    "#       print eigenvectors[i][iter]"
   ]
  },
  {
   "cell_type": "markdown",
   "metadata": {},
   "source": [
    "To obtain the deviation from the equilibrim value at each time, subtract the equilibrium probabilities from each probability vector and take the absolute value. Specifically, the evolution of the deviation in the site 0 is plotted in semi-log scale. It is found that the resulting line is approximately parallel to $0.75^t$ in semi-log scale."
   ]
  },
  {
   "cell_type": "code",
   "execution_count": 9,
   "metadata": {},
   "outputs": [
    {
     "name": "stdout",
     "output_type": "stream",
     "text": [
      "0    ['0.11111', '0.11111', '0.11111', '0.11111', '0.11111', '0.11111', '0.11111', '0.11111', '0.88889']\n",
      "1    ['0.11111', '0.11111', '0.11111', '0.11111', '0.11111', '0.13889', '0.11111', '0.13889', '0.38889']\n",
      "2    ['0.11111', '0.11111', '0.04861', '0.11111', '0.01389', '0.07639', '0.04861', '0.07639', '0.26389']\n",
      "3    ['0.11111', '0.06424', '0.03299', '0.06424', '0.01736', '0.07639', '0.03299', '0.07639', '0.17014']\n",
      "4    ['0.08767', '0.05642', '0.01345', '0.05642', '0.00608', '0.04905', '0.01345', '0.04905', '0.12326']\n",
      "5    ['0.07205', '0.03787', '0.00857', '0.03787', '0.00369', '0.04123', '0.00857', '0.04123', '0.08615']\n",
      "6    ['0.05496', '0.03054', '0.00345', '0.03054', '0.00168', '0.02878', '0.00345', '0.02878', '0.06369']\n",
      "7    ['0.04275', '0.02182', '0.00216', '0.02182', '0.00088', '0.02268', '0.00216', '0.02268', '0.04624']\n",
      "8    ['0.03228', '0.01690', '0.00087', '0.01690', '0.00043', '0.01647', '0.00087', '0.01647', '0.03446']\n",
      "9    ['0.02459', '0.01241', '0.00054', '0.01241', '0.00022', '0.01262', '0.00054', '0.01262', '0.02546']\n",
      "10    ['0.01850', '0.00944', '0.00022', '0.00944', '0.00011', '0.00933', '0.00022', '0.00933', '0.01904']\n",
      "11    ['0.01397', '0.00701', '0.00014', '0.00701', '0.00005', '0.00707', '0.00014', '0.00707', '0.01419']\n",
      "12    ['0.01049', '0.00529', '0.00005', '0.00529', '0.00003', '0.00527', '0.00005', '0.00527', '0.01063']\n",
      "13    ['0.00789', '0.00395', '0.00003', '0.00395', '0.00001', '0.00397', '0.00003', '0.00397', '0.00795']\n",
      "14    ['0.00592', '0.00297', '0.00001', '0.00297', '0.00001', '0.00297', '0.00001', '0.00297', '0.00596']\n",
      "15    ['0.00445', '0.00223', '0.00001', '0.00223', '0.00000', '0.00223', '0.00001', '0.00223', '0.00446']\n",
      "16    ['0.00334', '0.00167', '0.00000', '0.00167', '0.00000', '0.00167', '0.00000', '0.00167', '0.00335']\n",
      "17    ['0.00250', '0.00125', '0.00000', '0.00125', '0.00000', '0.00125', '0.00000', '0.00125', '0.00251']\n",
      "18    ['0.00188', '0.00094', '0.00000', '0.00094', '0.00000', '0.00094', '0.00000', '0.00094', '0.00188']\n",
      "19    ['0.00141', '0.00070', '0.00000', '0.00070', '0.00000', '0.00070', '0.00000', '0.00070', '0.00141']\n",
      "20    ['0.00106', '0.00053', '0.00000', '0.00053', '0.00000', '0.00053', '0.00000', '0.00053', '0.00106']\n",
      "21    ['0.00079', '0.00040', '0.00000', '0.00040', '0.00000', '0.00040', '0.00000', '0.00040', '0.00079']\n",
      "22    ['0.00059', '0.00030', '0.00000', '0.00030', '0.00000', '0.00030', '0.00000', '0.00030', '0.00059']\n",
      "23    ['0.00045', '0.00022', '0.00000', '0.00022', '0.00000', '0.00022', '0.00000', '0.00022', '0.00045']\n",
      "24    ['0.00033', '0.00017', '0.00000', '0.00017', '0.00000', '0.00017', '0.00000', '0.00017', '0.00033']\n",
      "25    ['0.00025', '0.00013', '0.00000', '0.00013', '0.00000', '0.00013', '0.00000', '0.00013', '0.00025']\n",
      "26    ['0.00019', '0.00009', '0.00000', '0.00009', '0.00000', '0.00009', '0.00000', '0.00009', '0.00019']\n",
      "27    ['0.00014', '0.00007', '0.00000', '0.00007', '0.00000', '0.00007', '0.00000', '0.00007', '0.00014']\n",
      "28    ['0.00011', '0.00005', '0.00000', '0.00005', '0.00000', '0.00005', '0.00000', '0.00005', '0.00011']\n",
      "29    ['0.00008', '0.00004', '0.00000', '0.00004', '0.00000', '0.00004', '0.00000', '0.00004', '0.00008']\n",
      "30    ['0.00006', '0.00003', '0.00000', '0.00003', '0.00000', '0.00003', '0.00000', '0.00003', '0.00006']\n",
      "31    ['0.00004', '0.00002', '0.00000', '0.00002', '0.00000', '0.00002', '0.00000', '0.00002', '0.00004']\n",
      "32    ['0.00003', '0.00002', '0.00000', '0.00002', '0.00000', '0.00002', '0.00000', '0.00002', '0.00003']\n",
      "33    ['0.00003', '0.00001', '0.00000', '0.00001', '0.00000', '0.00001', '0.00000', '0.00001', '0.00003']\n",
      "34    ['0.00002', '0.00001', '0.00000', '0.00001', '0.00000', '0.00001', '0.00000', '0.00001', '0.00002']\n",
      "35    ['0.00001', '0.00001', '0.00000', '0.00001', '0.00000', '0.00001', '0.00000', '0.00001', '0.00001']\n",
      "36    ['0.00001', '0.00001', '0.00000', '0.00001', '0.00000', '0.00001', '0.00000', '0.00001', '0.00001']\n",
      "37    ['0.00001', '0.00000', '0.00000', '0.00000', '0.00000', '0.00000', '0.00000', '0.00000', '0.00001']\n",
      "38    ['0.00001', '0.00000', '0.00000', '0.00000', '0.00000', '0.00000', '0.00000', '0.00000', '0.00001']\n",
      "39    ['0.00000', '0.00000', '0.00000', '0.00000', '0.00000', '0.00000', '0.00000', '0.00000', '0.00000']\n",
      "40    ['0.00000', '0.00000', '0.00000', '0.00000', '0.00000', '0.00000', '0.00000', '0.00000', '0.00000']\n",
      "41    ['0.00000', '0.00000', '0.00000', '0.00000', '0.00000', '0.00000', '0.00000', '0.00000', '0.00000']\n",
      "42    ['0.00000', '0.00000', '0.00000', '0.00000', '0.00000', '0.00000', '0.00000', '0.00000', '0.00000']\n",
      "43    ['0.00000', '0.00000', '0.00000', '0.00000', '0.00000', '0.00000', '0.00000', '0.00000', '0.00000']\n",
      "44    ['0.00000', '0.00000', '0.00000', '0.00000', '0.00000', '0.00000', '0.00000', '0.00000', '0.00000']\n",
      "45    ['0.00000', '0.00000', '0.00000', '0.00000', '0.00000', '0.00000', '0.00000', '0.00000', '0.00000']\n",
      "46    ['0.00000', '0.00000', '0.00000', '0.00000', '0.00000', '0.00000', '0.00000', '0.00000', '0.00000']\n",
      "47    ['0.00000', '0.00000', '0.00000', '0.00000', '0.00000', '0.00000', '0.00000', '0.00000', '0.00000']\n",
      "48    ['0.00000', '0.00000', '0.00000', '0.00000', '0.00000', '0.00000', '0.00000', '0.00000', '0.00000']\n",
      "49    ['0.00000', '0.00000', '0.00000', '0.00000', '0.00000', '0.00000', '0.00000', '0.00000', '0.00000']\n"
     ]
    },
    {
     "data": {
      "image/png": "[encoded data removed]",
      "text/plain": [
       "<Figure size 432x288 with 1 Axes>"
      ]
     },
     "metadata": {},
     "output_type": "display_data"
    }
   ],
   "source": [
    "%matplotlib inline\n",
    "import matplotlib.pyplot as plt\n",
    "import numpy\n",
    "\n",
    "neighbor =  [[1, 3, 0, 0], [2, 4, 0, 1], [2, 5, 1, 2],\n",
    "             [4, 6, 3, 0], [5, 7, 3, 1], [5, 8, 4, 2],\n",
    "             [7, 6, 6, 3], [8, 7, 6, 4], [8, 8, 7, 5]]\n",
    "transfer = numpy.zeros((9, 9))\n",
    "\n",
    "site_0=numpy.zeros(50)\n",
    "fit=numpy.zeros(50)\n",
    "for k in range(9):\n",
    "    for neigh in range(4): transfer[neighbor[k][neigh], k] += 0.25\n",
    "position = numpy.zeros(9)\n",
    "position[8] = 1.0\n",
    "for t in range(50):\n",
    "    print t,'  ',[\"%0.5f\" % abs(i- 1.0 / 9.0) for i in position]\n",
    "    position = numpy.dot(transfer, position)\n",
    "    fit[t]=0.75**t\n",
    "    site_0[t]=abs(position[0]- 1.0 / 9.0)\n",
    "\n",
    "plt.clf()\n",
    "plt.semilogy(site_0, label=\"$\\pi_0(t)-\\pi_0^{eq}$\")\n",
    "plt.semilogy(fit, label=\"$0.75^t$\")\n",
    "plt.ylabel('Deviation from 1/9')\n",
    "plt.xlabel('t')\n",
    "plt.grid(True)\n",
    "plt.legend(shadow=False, fancybox=True)\n",
    "plt.show()"
   ]
  },
  {
   "cell_type": "markdown",
   "metadata": {},
   "source": [
    "Dual pebble game with a finite probability of switching between the games to ensure irreducability of the transfer matrix."
   ]
  },
  {
   "cell_type": "code",
   "execution_count": 3,
   "metadata": {},
   "outputs": [
    {
     "name": "stdout",
     "output_type": "stream",
     "text": [
      "Populating the interactive namespace from numpy and matplotlib\n",
      "transition red->blue at time =  176\n",
      "transition blue->red at time =  197\n",
      "transition red->blue at time =  198\n",
      "transition blue->red at time =  199\n",
      "transition red->blue at time =  211\n",
      "transition blue->red at time =  213\n"
     ]
    }
   ],
   "source": [
    "%pylab qt\n",
    "import random, pylab\n",
    "\n",
    "random.seed('1234')\n",
    "sigma = 0.4\n",
    "epsilon = 0.4  # probability to switch from red to blue pebble, and vice versa\n",
    "pylab.figure()\n",
    "s_map_red =  [(1.0, 1.0), (2.0, 1.0), (3.0, 1.0), \n",
    "              (1.0, 2.0), (2.0, 2.0), (3.0, 2.0), \n",
    "              (1.0, 3.0), (2.0, 3.0), (3.0, 3.0)] \n",
    "offset = 3.0\n",
    "s_map_blue = [(x+offset,y-offset) for (x,y) in s_map_red]\n",
    "neighbor =  [[1, 3, 0, 0], [2, 4, 0, 1], [2, 5, 1, 2],\n",
    "             [4, 6, 3, 0], [5, 7, 3, 1], [5, 8, 4, 2],\n",
    "             [7, 6, 6, 3], [8, 7, 6, 4], [8, 8, 7, 5]]\n",
    "color = 'red'  #chose 'red' or 'blue'\n",
    "site = 8\n",
    "tmax = 240\n",
    "for iter in range(tmax):\n",
    "    period = 4\n",
    "    if (iter%period) == 0:\n",
    "\t# Begin of graphical output\n",
    "        pylab.clf()\n",
    "        maxlength = len(str(tmax-1))\n",
    "        number_string = str(iter).zfill(maxlength)\n",
    "        if color == 'red':  cir = pylab.Circle(s_map_red[site],  radius=sigma, fc='r')\n",
    "        if color == 'blue': cir = pylab.Circle(s_map_blue[site], radius=sigma, fc='b')\n",
    "\tpylab.figure()\n",
    "        pylab.gca().add_patch(cir)\n",
    "        pylab.plot([0.5, 3.5], [0.5, 0.5], 'r')\n",
    "        pylab.plot([0.5, 3.5], [1.5, 1.5], 'r')\n",
    "        pylab.plot([0.5, 3.5], [2.5, 2.5], 'r')\n",
    "        pylab.plot([1.5, 1.5], [0.5, 3.5], 'r')\n",
    "        pylab.plot([2.5, 2.5], [0.5, 3.5], 'r')\n",
    "        pylab.plot([3.5, 3.5], [0.5, 3.5], 'r')\n",
    "        pylab.plot([0.5+offset, 3.5+offset], [1.5-offset, 1.5-offset], 'b')\n",
    "        pylab.plot([0.5+offset, 3.5+offset], [2.5-offset, 2.5-offset], 'b')\n",
    "        pylab.plot([0.5+offset, 3.5+offset], [3.5-offset, 3.5-offset], 'b')\n",
    "        pylab.plot([0.5+offset, 0.5+offset], [0.5-offset, 3.5-offset], 'b')\n",
    "        pylab.plot([1.5+offset, 1.5+offset], [0.5-offset, 3.5-offset], 'b')\n",
    "        pylab.plot([2.5+offset, 2.5+offset], [0.5-offset, 3.5-offset], 'b')\n",
    "        pylab.title('t = '+ number_string)\n",
    "        pylab.axis('scaled')\n",
    "        pylab.axis([0.5, 6.5, -2.5, 3.5])\n",
    "        pylab.xticks([])\n",
    "        pylab.yticks([])\n",
    "        number_string_filename = str(iter/period).zfill(3)\n",
    "        pylab.pause(0.05)\n",
    "        pylab.close()\n",
    "\t# End of graphical output\n",
    "    newsite = neighbor[site][ random.randint(0, 3)]\n",
    "    newcolor = color\n",
    "    if (color == 'red') and (site == 2) and (newsite == 2):\n",
    "        if random.random() < epsilon:\n",
    "            newcolor = 'blue'\n",
    "            newsite = 6\n",
    "            print \"transition red->blue at time = \", iter\n",
    "    if (color == 'blue') and (site == 6) and (newsite == 6):\n",
    "        if random.random() < epsilon:\n",
    "            newcolor = 'red'\n",
    "            newsite = 2\n",
    "            print \"transition blue->red at time = \", iter\n",
    "    site = newsite\n",
    "    color = newcolor"
   ]
  },
  {
   "cell_type": "markdown",
   "metadata": {},
   "source": [
    "Recurrent pebble game with $2\\times 2$ grid with small aperiodicity."
   ]
  },
  {
   "cell_type": "code",
   "execution_count": 4,
   "metadata": {},
   "outputs": [
    {
     "name": "stdout",
     "output_type": "stream",
     "text": [
      "Populating the interactive namespace from numpy and matplotlib\n"
     ]
    }
   ],
   "source": [
    "%pylab qt\n",
    "import math, random, pylab\n",
    "\n",
    "sigma = 0.4\n",
    "epsilon = 0.1\n",
    "pylab.figure()\n",
    "s_map = [(1.0, 1.0), (2.0, 1.0)] \n",
    "neighbor =  [[1], [0]]\n",
    "pos = 0\n",
    "tmax = 20\n",
    "for iter in range(tmax):\n",
    "    # Begin of the graphics output\n",
    "    pylab.figure()\n",
    "    number_string = str(iter).zfill(len(str(tmax)))\n",
    "    cir = pylab.Circle(s_map[pos], radius=sigma, fc='r')\n",
    "    pylab.gca().add_patch(cir)\n",
    "    pylab.plot([1.5, 1.5], [0.5, 1.5], 'b')\n",
    "    pylab.title('t = '+ number_string)\n",
    "    pylab.axis('scaled')\n",
    "    pylab.axis([0.5, 2.5, 0.5, 1.5])\n",
    "    pylab.xticks([])\n",
    "    pylab.yticks([])\n",
    "    #pylab.savefig('2x1pebble_epsilon'+number_string+'.png', transparent=True)\n",
    "    pylab.pause(0.05)\n",
    "    pylab.clf()\n",
    "    pylab.close()\n",
    "    # End of the graphics output\n",
    "    newpos = neighbor[pos][0]\n",
    "    if random.random() < epsilon:\n",
    "        newpos = pos\n",
    "    pos = newpos"
   ]
  },
  {
   "cell_type": "markdown",
   "metadata": {},
   "source": [
    "Basic pebble throw game with inhomogeneous steady state probabilities."
   ]
  },
  {
   "cell_type": "code",
   "execution_count": 15,
   "metadata": {},
   "outputs": [
    {
     "name": "stdout",
     "output_type": "stream",
     "text": [
      "comparison:  weight, histogram\n",
      "site:  0  weight:  3.0  histo:  3.00848\n",
      "site:  1  weight:  0.5  histo:  0.49825\n",
      "site:  2  weight:  1.0  histo:  0.99388\n",
      "site:  3  weight:  0.5  histo:  0.50321\n",
      "site:  4  weight:  1.0  histo:  1.00448\n",
      "site:  5  weight:  0.5  histo:  0.49447\n",
      "site:  6  weight:  2.0  histo:  2.01049\n",
      "site:  7  weight:  0.5  histo:  0.50085\n",
      "site:  8  weight:  1.0  histo:  0.98589\n"
     ]
    }
   ],
   "source": [
    "import random\n",
    "\n",
    "#define the grid in terms of transitions:[right,up,left,down]\n",
    "histo = [0, 0, 0, 0, 0, 0, 0, 0, 0]\n",
    "neighbor =  [[1, 3, 0, 0], [2, 4, 0, 1], [2, 5, 1, 2],\n",
    "             [4, 6, 3, 0], [5, 7, 3, 1], [5, 8, 4, 2],\n",
    "             [7, 6, 6, 3], [8, 7, 6, 4], [8, 8, 7, 5]]\n",
    "weight = [3.0, 0.5, 1.0, 0.5, 1.0, 0.5, 2.0, 0.5, 1.0]\n",
    "pos = 8\n",
    "n_iter = 1000000\n",
    "for iter in range(n_iter):\n",
    "    new_pos = neighbor[pos][random.randint(0, 3)]\n",
    "    if random.random() < weight[new_pos] / weight[pos]:\n",
    "        pos = new_pos\n",
    "    histo[pos] += 1 \n",
    "\n",
    "norm = sum(weight)\n",
    "print 'comparison:  weight, histogram'\n",
    "for k in range(9): \n",
    "    print 'site: ', k,' weight: ', weight[k], ' histo: ', norm * histo[k] / float(n_iter)"
   ]
  }
 ],
 "metadata": {
  "kernelspec": {
   "display_name": "Python 3",
   "language": "python",
   "name": "python3"
  },
  "language_info": {
   "codemirror_mode": {
    "name": "ipython",
    "version": 3
   },
   "file_extension": ".py",
   "mimetype": "text/x-python",
   "name": "python",
   "nbconvert_exporter": "python",
   "pygments_lexer": "ipython3",
   "version": "3.7.3"
  }
 },
 "nbformat": 4,
 "nbformat_minor": 2
}
