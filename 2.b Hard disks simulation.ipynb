{
 "cells": [
  {
   "cell_type": "markdown",
   "metadata": {},
   "source": [
    "# *2D Hard Sphere (Hard Disk) Problem*\n"
   ]
  },
  {
   "cell_type": "markdown",
   "metadata": {},
   "source": [
    "## Event Driven Hard Disks Simulation (Molecular Dynamics Simulation)"
   ]
  },
  {
   "cell_type": "markdown",
   "metadata": {},
   "source": [
    "Solves the Newtonian dynamics of a 4 hard disk system exactly. Spheres move in straight lines between collisions and the collision events are calculated by finding the minimum of 6 time values until the walls and the other disks.\n",
    "\n",
    "Note that this algorithm is exact assuming that the numbers for the velocity and the times are calculated with infinite precision. However this is not the case for computers where the numbers are truncated at a finite value. By definition, chaotic systems are characterised by the vas differences in the final states despite having only marginal differences in their initial conditions. Therefore, although the numbers calculated by the molecular dynamics algorithm have millions of digits, the simulation is valid only for a limited number of iterations. (The chaoticity of the system is caused by the negative curvature of the surface of the disk.)"
   ]
  },
  {
   "cell_type": "code",
   "execution_count": 22,
   "metadata": {},
   "outputs": [
    {
     "name": "stdout",
     "output_type": "stream",
     "text": [
      "Populating the interactive namespace from numpy and matplotlib\n"
     ]
    },
    {
     "name": "stderr",
     "output_type": "stream",
     "text": [
      "/anaconda3/envs/python2/lib/python2.7/site-packages/IPython/core/magics/pylab.py:161: UserWarning: pylab import has clobbered these variables: ['random']\n",
      "`%matplotlib` prevents importing * from pylab and numpy\n",
      "  \"\\n`%matplotlib` prevents importing * from pylab and numpy\"\n"
     ]
    },
    {
     "name": "stdout",
     "output_type": "stream",
     "text": [
      "Producing animation.gif using ImageMagick...\n"
     ]
    },
    {
     "data": {
      "text/plain": [
       "32512"
      ]
     },
     "execution_count": 22,
     "metadata": {},
     "output_type": "execute_result"
    }
   ],
   "source": [
    "%pylab qt\n",
    "import os, math, pylab\n",
    "\n",
    "output_dir = \"event_disks_box_movie\"\n",
    "colors = ['r', 'b', 'g', 'orange']\n",
    "\n",
    "def wall_time(pos_a, vel_a, sigma):\n",
    "    if vel_a > 0.0:\n",
    "        del_t = (1.0 - sigma - pos_a) / vel_a\n",
    "    elif vel_a < 0.0:\n",
    "        del_t = (pos_a - sigma) / abs(vel_a)\n",
    "    else:\n",
    "        del_t = float('inf')\n",
    "    return del_t\n",
    "\n",
    "def pair_time(pos_a, vel_a, pos_b, vel_b, sigma):\n",
    "    del_x = [pos_b[0] - pos_a[0], pos_b[1] - pos_a[1]]\n",
    "    del_x_sq = del_x[0] ** 2 + del_x[1] ** 2\n",
    "    del_v = [vel_b[0] - vel_a[0], vel_b[1] - vel_a[1]]\n",
    "    del_v_sq = del_v[0] ** 2 + del_v[1] ** 2\n",
    "    scal = del_v[0] * del_x[0] + del_v[1] * del_x[1]\n",
    "    Upsilon = scal ** 2 - del_v_sq * (del_x_sq - 4.0 * sigma ** 2)\n",
    "    if Upsilon > 0.0 and scal < 0.0:\n",
    "        del_t = - (scal + math.sqrt(Upsilon)) / del_v_sq\n",
    "    else:\n",
    "        del_t = float('inf')\n",
    "    return del_t\n",
    "\n",
    "def min_arg(l):\n",
    "    return min(zip(l, range(len(l))))\n",
    "\n",
    "def compute_next_event(pos, vel):\n",
    "    wall_times = [wall_time(pos[k][l], vel[k][l], sigma) for k, l in singles]\n",
    "    pair_times = [pair_time(pos[k], vel[k], pos[l], vel[l], sigma) for k, l in pairs]\n",
    "    return min_arg(wall_times + pair_times)\n",
    "\n",
    "def compute_new_velocities(pos, vel, next_event_arg):\n",
    "    if next_event_arg < len(singles):\n",
    "        collision_disk, direction = singles[next_event_arg]\n",
    "        vel[collision_disk][direction] *= -1.0\n",
    "    else:\n",
    "        a, b = pairs[next_event_arg - len(singles)]\n",
    "        del_x = [pos[b][0] - pos[a][0], pos[b][1] - pos[a][1]]\n",
    "        abs_x = math.sqrt(del_x[0] ** 2 + del_x[1] ** 2)\n",
    "        e_perp = [c / abs_x for c in del_x]\n",
    "        del_v = [vel[b][0] - vel[a][0], vel[b][1] - vel[a][1]]\n",
    "        scal = del_v[0] * e_perp[0] + del_v[1] * e_perp[1]\n",
    "        for k in range(2):\n",
    "            vel[a][k] += e_perp[k] * scal\n",
    "            vel[b][k] -= e_perp[k] * scal\n",
    "\n",
    "pylab.subplots_adjust(left=0.10, right=0.90, top=0.90, bottom=0.10)\n",
    "pylab.gcf().set_size_inches(6, 6)\n",
    "img = 0\n",
    "if not os.path.exists(output_dir): os.makedirs(output_dir)\n",
    "def snapshot(t, pos, vel, colors, arrow_scale=.2):\n",
    "    global img\n",
    "    pylab.cla()\n",
    "    pylab.axis([0, 1, 0, 1])\n",
    "    pylab.setp(pylab.gca(), xticks=[0, 1], yticks=[0, 1])\n",
    "    for (x, y), (dx, dy), c in zip(pos, vel, colors):\n",
    "        dx *= arrow_scale\n",
    "        dy *= arrow_scale\n",
    "        circle = pylab.Circle((x, y), radius=sigma, fc=c)\n",
    "        pylab.gca().add_patch(circle)\n",
    "        pylab.arrow( x, y, dx, dy, fc=\"k\", ec=\"k\", head_width=0.05, head_length=0.05 )\n",
    "    pylab.text(.5, 1.03, 't = %.2f' % t, ha='center')\n",
    "    pylab.savefig(os.path.join(output_dir, '%04i.png' % img))\n",
    "    pylab.pause(0.00001)\n",
    "    pylab.show()\n",
    "    img += 1\n",
    "\n",
    "pos = [[0.25, 0.25], [0.75, 0.25], [0.25, 0.75], [0.75, 0.75]]\n",
    "vel = [[0.21, 0.12], [0.71, 0.18], [-0.23, -0.79], [0.78, 0.1177]]\n",
    "singles = [(0, 0), (0, 1), (1, 0), (1, 1), (2, 0), (2, 1), (3, 0), (3, 1)]\n",
    "pairs = [(0, 1), (0, 2), (0, 3), (1, 2), (1, 3), (2, 3)]\n",
    "sigma = 0.15\n",
    "t = 0.0\n",
    "dt = 0.02     # dt=0 corresponds to event-to-event animation\n",
    "n_steps = 100\n",
    "next_event, next_event_arg = compute_next_event(pos, vel)\n",
    "snapshot(t, pos, vel, colors)\n",
    "for step in range(n_steps):\n",
    "    pylab.clf()\n",
    "    if dt:\n",
    "        next_t = t + dt\n",
    "    else:\n",
    "        next_t = t + next_event\n",
    "    while t + next_event <= next_t:\n",
    "        t += next_event\n",
    "        for k, l in singles: pos[k][l] += vel[k][l] * next_event\n",
    "        compute_new_velocities(pos, vel, next_event_arg)\n",
    "        next_event, next_event_arg = compute_next_event(pos, vel)\n",
    "    remain_t = next_t - t\n",
    "    for k, l in singles: pos[k][l] += vel[k][l] * remain_t\n",
    "    t += remain_t\n",
    "    next_event -= remain_t\n",
    "    snapshot(t, pos, vel, colors)\n",
    "    #print 'time',t\n",
    "\n",
    "print('Producing animation.gif using ImageMagick...')\n",
    "os.system(\"convert -delay 1 -dispose Background +page \" + str(output_dir)\n",
    "          + \"/*.png -loop 0 \" + str(output_dir) + \"/animation.gif\")"
   ]
  },
  {
   "cell_type": "markdown",
   "metadata": {},
   "source": [
    "## Direct Sampling Hard Disks\n",
    "By Boltzmann's equiprobability hypothesis and ergodic hypothesis, given infinite time, the system explores all of its possible configurations with equal probability. This key idea leads to the following algorithm that samples possible configurations of 4 hard disk system through direct sampling. For an infinitely large sampling, the resulting frames of the system constitute a \"time scrambled\" version of the actual dynamics of the system."
   ]
  },
  {
   "cell_type": "code",
   "execution_count": 1,
   "metadata": {},
   "outputs": [
    {
     "name": "stdout",
     "output_type": "stream",
     "text": [
      "Populating the interactive namespace from numpy and matplotlib\n"
     ]
    }
   ],
   "source": [
    "%pylab qt\n",
    "import random, math, os, pylab\n",
    "\n",
    "output_dir = 'direct_disks_box_movie'\n",
    "\n",
    "def direct_disks_box(N, sigma):\n",
    "    condition = False\n",
    "    while condition == False:\n",
    "        L = [(random.uniform(sigma, 1.0 - sigma), random.uniform(sigma, 1.0 - sigma))]\n",
    "        for k in range(1, N):\n",
    "            a = (random.uniform(sigma, 1.0 - sigma), random.uniform(sigma, 1.0 - sigma))\n",
    "            min_dist = min(math.sqrt((a[0] - b[0]) ** 2 + (a[1] - b[1]) ** 2) for b in L) \n",
    "            if min_dist < 2.0 * sigma: \n",
    "                condition = False\n",
    "                break\n",
    "            else:\n",
    "                L.append(a)\n",
    "                condition = True\n",
    "    return L\n",
    "\n",
    "img = 0\n",
    "if not os.path.exists(output_dir): os.makedirs(output_dir)\n",
    "def snapshot(pos, colors):\n",
    "    global img\n",
    "    pylab.subplots_adjust(left=0.10, right=0.90, top=0.90, bottom=0.10)\n",
    "    pylab.gcf().set_size_inches(6, 6)\n",
    "    pylab.axis([0, 1, 0, 1])\n",
    "    pylab.setp(pylab.gca(), xticks=[0, 1], yticks=[0, 1])\n",
    "    for (x, y), c in zip(pos, colors):\n",
    "        circle = pylab.Circle((x, y), radius=sigma, fc=c)\n",
    "        pylab.gca().add_patch(circle)\n",
    "    #pylab.savefig(os.path.join(output_dir, '%d.png' % img), transparent=True)\n",
    "    pylab.pause(0.01)\n",
    "    pylab.show()\n",
    "    img += 1\n",
    "\n",
    "N = 4 #the number of disks\n",
    "colors = ['r', 'b', 'g', 'orange']\n",
    "sigma = 0.2 #the radii of the disks\n",
    "n_runs = 8\n",
    "for run in range(n_runs):\n",
    "    pos = direct_disks_box(N, sigma)\n",
    "    snapshot(pos, colors)\n",
    "    pylab.clf()"
   ]
  },
  {
   "cell_type": "markdown",
   "metadata": {},
   "source": [
    "Direct sampling with periodic boundary conditions. Notice that for $N=16$ disks of radii $\\sigma=\\sqrt{\\frac{\\eta}{\\pi N}}$, where $\\eta=0.26$ is the density of the disks, it is found that it usually occurred thousands of rejections before producing a legitimate configuration! It turns out that the acceptance ratio in the case of $\\eta=0.3$ and $N=16$, the acceptance ratio $p_{\\text{acceptance}}=5\\times 10^{-6}$. The accepted cases strictly characterise the portion of the $32$-dimensional configuration space that corresponds to the $16$ hard disk system. In other words, the rejection probability can be used to calculate the partition function $Z(\\eta)$ of the system.\n",
    "\n",
    "For a $2$-D box of volume V, the $32$-dimensional configuration space has the volume $V^{16}$. If the radius of the disk is $\\sigma=0 \\implies \\eta=0$, i.e. the density of the box is $0$, then all the points of the configuration space are legal configurations of the system. Hence the partition function of that system is $Z(N,\\eta=0)=V^N$. On the other hand $Z(N,\\eta)=Z(N,\\eta=0)p_{\\text{acceptance}}$."
   ]
  },
  {
   "cell_type": "code",
   "execution_count": 4,
   "metadata": {},
   "outputs": [
    {
     "name": "stdout",
     "output_type": "stream",
     "text": [
      "Populating the interactive namespace from numpy and matplotlib\n",
      "run 0\n",
      "30036 tabula rasa wipe-outs before producing the following configuration\n",
      "[(0.5290863088869059, 0.026602165942082534), (0.7068861913834033, 0.841765426057141), (0.350246769636395, 0.5691655942222656), (0.5645476848710024, 0.25386832218349087), (0.04798050921429031, 0.35387875591009954), (0.7908119383793827, 0.016254686601902435), (0.9999214172719869, 0.4952435341395388), (0.14324225234241617, 0.7544997761130654), (0.790845238067139, 0.6926598186347003), (0.6603863557473032, 0.424173085826433), (0.5231276402387884, 0.7180344838877797), (0.3431909675284315, 0.025476194822818043), (0.34948072471303104, 0.3231388243348168), (0.958008437682202, 0.7639663257620449), (0.8479799683835139, 0.35298926296288435), (0.2538594432886999, 0.18606330998718656)]\n",
      "\n"
     ]
    },
    {
     "data": {
      "text/plain": [
       "<Figure size 432x288 with 0 Axes>"
      ]
     },
     "metadata": {},
     "output_type": "display_data"
    },
    {
     "data": {
      "image/png": "[encoded data removed]",
      "text/plain": [
       "<Figure size 432x288 with 1 Axes>"
      ]
     },
     "metadata": {},
     "output_type": "display_data"
    },
    {
     "name": "stdout",
     "output_type": "stream",
     "text": [
      "run 1\n",
      "16547 tabula rasa wipe-outs before producing the following configuration\n",
      "[(0.820775802536151, 0.6382203875836991), (0.4994876147259021, 0.6944488152203134), (0.8262359021855195, 0.015628632683440946), (0.9371208419822434, 0.8968165824312339), (0.17126203609104784, 0.5847827680049164), (0.14538249802057335, 0.8095048871852456), (0.6514025090157548, 0.24049746233092262), (0.8444344838268607, 0.3206571424503102), (0.4309482077730372, 0.4158203150383223), (0.6118328659936254, 0.4489655140103994), (0.26674751156518983, 0.07280573592629969), (0.3367265167647999, 0.5685097793003173), (0.44624884853100755, 0.8332232581634768), (0.6291172175885347, 0.903243985050751), (0.30286450459953096, 0.29800677302308276), (0.7924321388459232, 0.7967320275977108)]\n",
      "\n"
     ]
    },
    {
     "data": {
      "text/plain": [
       "<Figure size 432x288 with 0 Axes>"
      ]
     },
     "metadata": {},
     "output_type": "display_data"
    },
    {
     "data": {
      "image/png": "[encoded data removed]",
      "text/plain": [
       "<Figure size 432x288 with 1 Axes>"
      ]
     },
     "metadata": {},
     "output_type": "display_data"
    },
    {
     "name": "stdout",
     "output_type": "stream",
     "text": [
      "run 2\n",
      "7516 tabula rasa wipe-outs before producing the following configuration\n",
      "[(0.997011476912311, 0.23823009873908463), (0.20621709483185124, 0.5891035784239245), (0.10118350467709525, 0.07907699087981945), (0.4716465280346849, 0.417454687405741), (0.4678218946283592, 0.7141723043275596), (0.3147159813855247, 0.7210526639527041), (0.9952703671930787, 0.6922178099114037), (0.35585010258529315, 0.5649069148664847), (0.6609343694723954, 0.5163412127065151), (0.5608111707904527, 0.2627446089358014), (0.24357655441213055, 0.9462511646654779), (0.28150850754722967, 0.3405060330435056), (0.9018256207654266, 0.10565325251846991), (0.6224147643203051, 0.6670379720594759), (0.5510108953783537, 0.0866724260029228), (0.7678616786480671, 0.9479731188795825)]\n",
      "\n"
     ]
    },
    {
     "data": {
      "text/plain": [
       "<Figure size 432x288 with 0 Axes>"
      ]
     },
     "metadata": {},
     "output_type": "display_data"
    },
    {
     "data": {
      "image/png": "[encoded data removed]",
      "text/plain": [
       "<Figure size 432x288 with 1 Axes>"
      ]
     },
     "metadata": {},
     "output_type": "display_data"
    },
    {
     "name": "stdout",
     "output_type": "stream",
     "text": [
      "run 3\n",
      "26138 tabula rasa wipe-outs before producing the following configuration\n",
      "[(0.9434199654999524, 0.15218440298230407), (0.09745669212185293, 0.6460152193667532), (0.27098153940391645, 0.2922309691987671), (0.3188707740561313, 0.5554249964405475), (0.7312006374701823, 0.7166516747159463), (0.15511726616813903, 0.14901876055716923), (0.9306327850845793, 0.5145610011161166), (0.3417698978206465, 0.7565287669956946), (0.5230768300029479, 0.6176798382811663), (0.5923745591850242, 0.3794954882057897), (0.501353747848843, 0.7822898246983823), (0.37901538349632535, 0.12374150475647527), (0.002423264837273287, 0.3230211686176111), (0.20415136567818648, 0.8777440359462632), (0.8520738693427051, 0.8339903634866587), (0.8022041186441675, 0.05433996145526898)]\n",
      "\n"
     ]
    },
    {
     "data": {
      "text/plain": [
       "<Figure size 432x288 with 0 Axes>"
      ]
     },
     "metadata": {},
     "output_type": "display_data"
    },
    {
     "data": {
      "image/png": "[encoded data removed]",
      "text/plain": [
       "<Figure size 432x288 with 1 Axes>"
      ]
     },
     "metadata": {},
     "output_type": "display_data"
    },
    {
     "name": "stdout",
     "output_type": "stream",
     "text": [
      "run 4\n",
      "6084 tabula rasa wipe-outs before producing the following configuration\n",
      "[(0.7590878221547396, 0.38609759080933814), (0.7785486579710811, 0.5892174114517533), (0.5732064268778967, 0.3005173238565446), (0.5168950312242604, 0.7537428959811848), (0.4195615209396405, 0.9178446574429164), (0.20762995655358862, 0.5829254689199423), (0.765030883264898, 0.8155794809216419), (0.33782792836027997, 0.33804887534482286), (0.16593128400739898, 0.9556577252452482), (0.1015162527233131, 0.3432614494975966), (0.20573498888013464, 0.7501051776901527), (0.9916406419116316, 0.5596533897780842), (0.4981527878862717, 0.4537827964280835), (0.6059255756849841, 0.10226042014195891), (0.13771319471837562, 0.15787588170708022), (0.38774080885250817, 0.16451894627990304)]\n",
      "\n"
     ]
    },
    {
     "data": {
      "text/plain": [
       "<Figure size 432x288 with 0 Axes>"
      ]
     },
     "metadata": {},
     "output_type": "display_data"
    },
    {
     "data": {
      "image/png": "[encoded data removed]",
      "text/plain": [
       "<Figure size 432x288 with 1 Axes>"
      ]
     },
     "metadata": {},
     "output_type": "display_data"
    }
   ],
   "source": [
    "%pylab inline\n",
    "import random, math, pylab, os\n",
    "\n",
    "#Introduce the periodic boundary conditions via the modular distance function between two 2D vectors x, y:\n",
    "def dist(x,y):\n",
    "    d_x = abs(x[0] - y[0]) % 1.0 #distance between the first compononents of two vectors in modulo 1\n",
    "    d_x = min(d_x, 1.0 - d_x) #the modular distance is the minimum of cases due to periodicity\n",
    "    d_y = abs(x[1] - y[1]) % 1.0 #distance between the second compononents of two vectors in modulo 1\n",
    "    d_y = min(d_y, 1.0 - d_y)\n",
    "    return  math.sqrt(d_x**2 + d_y**2) #returns the modular distance\n",
    "    \n",
    "def direct_disks(N, sigma): #constructs a legal sample in the 2N-dimensional unit hypercube\n",
    "    n_iter = 0\n",
    "    condition = False\n",
    "    while condition == False:\n",
    "        n_iter += 1 #increases in the case of failure to find non-overlapping disk coordinates\n",
    "        L = [(random.random(), random.random())] #random vector in 2N-dimensional hypercube\n",
    "        for k in range(1, N):\n",
    "            a = (random.random(), random.random()) #random vector in the 2D square\n",
    "            min_dist = min(dist(a, b) for b in L) #minimum of the distances between any two disks\n",
    "    #if the modular distance between any two disks is less than their radii, then breaks and tries again\n",
    "            if min_dist < 2.0 * sigma:\n",
    "                condition = False\n",
    "                break\n",
    "            else:\n",
    "                L.append(a) #if no overlap occurs, then adds a new disk with coordinates a to the system\n",
    "                condition = True\n",
    "    return n_iter, L #the number of iterations required to find a legal configuration and its coordinates\n",
    "\n",
    "img = 0\n",
    "output_dir = 'direct_disks_multirun_movie'\n",
    "if not os.path.exists(output_dir): os.makedirs(output_dir)\n",
    "def snapshot(pos, colors, border_color = 'k'):\n",
    "    global img\n",
    "    pylab.figure()\n",
    "    pylab.axis([0, 1, 0, 1])\n",
    "    [i.set_linewidth(2) for i in pylab.gca().spines.itervalues()]\n",
    "    [i.set_color(border_color) for i in pylab.gca().spines.itervalues()]\n",
    "    pylab.setp(pylab.gca(), xticks = [0, 1], yticks = [0, 1], aspect = 'equal')\n",
    "    for (x, y), c in zip(pos, colors):\n",
    "        circle = pylab.Circle((x, y), radius = sigma, fc = c)\n",
    "        pylab.gca().add_patch(circle)\n",
    "    pylab.savefig(output_dir+'/snapshot_%03i.png'%img)\n",
    "    pylab.pause(0.001)\n",
    "    pylab.close()\n",
    "    img += 1\n",
    "\n",
    "def periodicize(config):\n",
    "    images = [-1.0, 0.0, 1.0]\n",
    "    return [(x + dx, y + dy) for (x,y) in config for dx in images for dy in images]\n",
    "\n",
    "N = 16 #the number of the disks\n",
    "eta = 0.26 #the disk density of the system (fraction of space occupied by the disks)\n",
    "sigma = math.sqrt(eta / N / math.pi) #the radii of the disks\n",
    "n_runs = 5 #number of runs\n",
    "colors = ['r' for i in range(8 * N)]\n",
    "for run in range(n_runs):\n",
    "    pylab.clf()\n",
    "    iterations, config =  direct_disks(N, sigma)\n",
    "    print 'run',run\n",
    "    print iterations - 1, 'tabula rasa wipe-outs before producing the following configuration'\n",
    "    print config\n",
    "    print \n",
    "    config_per = periodicize(config)\n",
    "    snapshot(config_per, colors, border_color = 'k')"
   ]
  },
  {
   "cell_type": "markdown",
   "metadata": {},
   "source": [
    "The acceptance probability $p_{\\text{acceptance}}(\\eta)$ is calculated by the following code."
   ]
  },
  {
   "cell_type": "code",
   "execution_count": 10,
   "metadata": {},
   "outputs": [
    {
     "name": "stdout",
     "output_type": "stream",
     "text": [
      "Populating the interactive namespace from numpy and matplotlib\n"
     ]
    },
    {
     "data": {
      "image/png": "[encoded data removed]",
      "text/plain": [
       "<Figure size 432x288 with 1 Axes>"
      ]
     },
     "metadata": {},
     "output_type": "display_data"
    }
   ],
   "source": [
    "%pylab inline\n",
    "import random, math, pylab\n",
    "\n",
    "def dist(x, y): #periodic boundary conditions as before\n",
    "    d_x = abs(x[0] - y[0]) % 1.0\n",
    "    d_x = min(d_x, 1.0 - d_x)\n",
    "    d_y = abs(x[1] - y[1]) % 1.0\n",
    "    d_y = min(d_y, 1.0 - d_y)\n",
    "    return  math.sqrt(d_x**2 + d_y**2)\n",
    "    \n",
    "N = 16 #number of disks\n",
    "n_confs = 10 ** 5 #number of configurations\n",
    "pairs = [(i, j) for i in range(N - 1) for j in range(i + 1, N)]\n",
    "eta_max_list = [] #initialise the allowed maximum densities\n",
    "for conf in xrange(n_confs):\n",
    "    #sample a random configuration -- overlapping/non-overlapping\n",
    "    #i.e. pick a random vector in 2N-D unit hypercube\n",
    "    L = [(random.random(), random.random()) for k in range(N)]\n",
    "    #determine the maximum possible radius so that any of the two disks in the configuration overlap\n",
    "    sigma_max = min(dist(L[i], L[j]) for i, j in pairs) / 2.0 \n",
    "    eta_max = N * math.pi * sigma_max ** 2 #calculate the corresponding maximum density\n",
    "    eta_max_list.append(eta_max)\n",
    "    #The histogram of these maximum densities corresponds to the acceptance probability!\n",
    "\n",
    "# Begin of graphics output\n",
    "pylab.figure()\n",
    "n, bins, patches = pylab.hist(eta_max_list, 100, histtype='step', cumulative=-1, \n",
    "                   log=True, normed=True, label=\"numerical evaluation of $p_{accept}$\")\n",
    "explaw = [math.exp( - 2.0 * (N - 1) * eta) for eta in bins] #first term in Virial expansion\n",
    "pylab.plot(bins, explaw, 'r--', linewidth=1.5, label=\"1st order virial expansion\")\n",
    "pylab.xlabel('density \\eta')\n",
    "pylab.ylabel('$p_{accept}(\\eta)$')\n",
    "pylab.legend()\n",
    "pylab.show()"
   ]
  },
  {
   "cell_type": "markdown",
   "metadata": {},
   "source": [
    "## Markov-Chain Sampling Hard Disks\n",
    "Direct sampling for hard disks works only at low densities and small particle numbers, and we thus switch to a more general Markov-chain Monte Carlo algorithm. Similar approach as direct sampling but this time the sampling is done through the Markov-chains, i.e. the location of a particular disk is updated from where it was at the previous frame. The rejection cases are the cases where any two of the disks overlap. The necessary conditions are aperiodicity and irreducibility. Aperiodicity is trivial in this case. Here, reducibility corresponds to the case where the radii of the disks are so large, so that they stuck and vibrate at their initial locations. There, the system can be reduced into four independent systems. Hence, irreducibility is a condition on the size of the radii of the disks.\n",
    "\n",
    "There is a link between the acceptance probability of the system and the partition function as seen in the previous section."
   ]
  },
  {
   "cell_type": "code",
   "execution_count": 5,
   "metadata": {},
   "outputs": [
    {
     "name": "stdout",
     "output_type": "stream",
     "text": [
      "Populating the interactive namespace from numpy and matplotlib\n"
     ]
    },
    {
     "data": {
      "image/png": "[encoded data removed]",
      "text/plain": [
       "<Figure size 864x864 with 1 Axes>"
      ]
     },
     "metadata": {},
     "output_type": "display_data"
    }
   ],
   "source": [
    "%pylab qt\n",
    "import random, os, pylab\n",
    "\n",
    "output_dir = 'markov_disks_box_movie'\n",
    "\n",
    "img = 0\n",
    "if not os.path.exists(output_dir): os.makedirs(output_dir)\n",
    "def snapshot(pos, colors):\n",
    "    global img\n",
    "    pylab.subplots_adjust(left=0.10, right=0.90, top=0.90, bottom=0.10)\n",
    "    pylab.gcf().set_size_inches(6, 6)\n",
    "    pylab.axis([0, 1, 0, 1])\n",
    "    pylab.setp(pylab.gca(), xticks=[0, 1], yticks=[0, 1])\n",
    "    for (x, y), c in zip(pos, colors):\n",
    "        circle = pylab.Circle((x, y), radius=sigma, fc=c)\n",
    "        pylab.gca().add_patch(circle)\n",
    "    #pylab.savefig(os.path.join(output_dir, '%d.png' % img), transparent=True)\n",
    "    pylab.pause(0.0001)\n",
    "    pylab.show()\n",
    "    img += 1\n",
    "\n",
    "L = [[0.25, 0.25], [0.75, 0.25], [0.25, 0.75], [0.75, 0.75]] #initial positions of the disks\n",
    "sigma = 0.15 #the radii of disks\n",
    "sigma_sq = sigma ** 2\n",
    "delta = 0.1\n",
    "colors = ['r', 'b', 'g', 'orange']\n",
    "n_steps = 50\n",
    "for step in range(n_steps):\n",
    "    pylab.clf()\n",
    "    snapshot(L, colors)\n",
    "    a = random.choice(L)\n",
    "    b = [a[0] + random.uniform(-delta, delta), a[1] + random.uniform(-delta, delta)]\n",
    "    min_dist = min((b[0] - c[0]) ** 2 + (b[1] - c[1]) ** 2 for c in L if c != a) \n",
    "    box_cond = min(b[0], b[1]) < sigma or max(b[0], b[1]) > 1.0 - sigma\n",
    "    if not (box_cond or min_dist < 4.0 * sigma ** 2):\n",
    "        a[:] = b"
   ]
  },
  {
   "cell_type": "markdown",
   "metadata": {},
   "source": [
    "The \"tabula rasa\" strategy explained:"
   ]
  },
  {
   "cell_type": "code",
   "execution_count": 6,
   "metadata": {},
   "outputs": [
    {
     "name": "stdout",
     "output_type": "stream",
     "text": [
      "[(0.3029469955941781, 0.7670627214525076), (0.7129377088143414, 0.7693773660570689), (0.32291343374765724, 0.2737530107568247), (0.7867778045636022, 0.25558665751782333)]\n"
     ]
    }
   ],
   "source": [
    "import random\n",
    "\n",
    "N = 4\n",
    "sigma = 0.2 #the radii of disks\n",
    "pairs = [(i, j) for i in range(N - 1) for j in range(i + 1, N)]\n",
    "while True:\n",
    "    #place four disks at randomly chosen positions: uniform vector in an 8D hypercube\n",
    "    L = [(random.uniform(sigma, 1.0 - sigma), random.uniform(sigma, 1.0 - sigma)) for k in range(N)]\n",
    "    #check for an overlap between the disks by calculating the distance in between all disks\n",
    "    if  min((L[i][0] - L[j][0]) ** 2 + (L[i][1] - L[j][1]) ** 2 for i, j in pairs) > 4.0 * sigma ** 2: \n",
    "        break #if overlap occurs, the algorithm breaks\n",
    "print L #Sample coordinates of the four disks are outputted"
   ]
  },
  {
   "cell_type": "markdown",
   "metadata": {},
   "source": [
    "On the other hand, it is crucial to note that *random sequential deposition* is forbidden since it yields inequal probabilities. The following example illustrates this in a 1D discrete example where two rods are placed on a grid of size 5."
   ]
  },
  {
   "cell_type": "code",
   "execution_count": 1,
   "metadata": {},
   "outputs": [
    {
     "name": "stdout",
     "output_type": "stream",
     "text": [
      "Populating the interactive namespace from numpy and matplotlib\n",
      "a 0.1\n",
      "c 0.2\n",
      "b 0.0\n",
      "e 0.0\n",
      "d 0.4\n",
      "f 0.3\n"
     ]
    }
   ],
   "source": [
    "%pylab qt\n",
    "import random, pylab, os\n",
    "\n",
    "output_dir = 'random_sequential_discrete_movie'\n",
    "if not os.path.exists(output_dir): os.makedirs(output_dir)\n",
    "def show_rods(red_rod, blue_rod, run, trial, frame):\n",
    "    fig, ax = pylab.subplots()\n",
    "    ax.set_xticks([0, 1, 2, 3, 4])\n",
    "    ax.set_yticks([])\n",
    "    height = 1.0\n",
    "    redrect = pylab.Rectangle((red_rod - 1.5, 0.0), 3.0, 1.1 * height,  fc = 'r')\n",
    "    pylab.gca().add_patch(redrect)\n",
    "    bluerect = pylab.Rectangle((blue_rod-1.5,0.0), 3.0, height,  fc = 'b')\n",
    "    pylab.gca().add_patch(bluerect)\n",
    "    pylab.axis('scaled')\n",
    "    pylab.axis([-1.5, 5.5, 0.0, 2.5*height])\n",
    "    pylab.xlabel(\"x\")\n",
    "    if abs(red_rod - blue_rod) > 2:\n",
    "        pylab.title('run %d, trial %d (ACCEPTED!)' % (run, trial))\n",
    "    else:\n",
    "        pylab.title('run %d, trial %d (REJECTED!)' % (run, trial))\n",
    "    pylab.savefig(output_dir+'/random_sequential_discrete_frame%04i.png' % (frame))\n",
    "    pylab.pause(0.0001)\n",
    "    pylab.close()\n",
    "\n",
    "configurations = {(0, 3): 'a', (0, 4): 'b', (1, 4): 'c', \n",
    "                  (3, 0): 'd', (4, 0): 'e', (4, 1): 'f'}\n",
    "counts = {'a': 0, 'b': 0, 'c': 0, 'd': 0, 'e': 0, 'f': 0}\n",
    "n_runs = 10\n",
    "frame = 0\n",
    "trial = 0\n",
    "for run in range(n_runs):\n",
    "    pylab.clf()\n",
    "    red_rod = random.randint(0, 3)\n",
    "    if red_rod >= 2: red_rod += 1\n",
    "    trial = 0\n",
    "    while True:\n",
    "        blue_rod = random.randint(0, 4)\n",
    "        show_rods(red_rod, blue_rod, run, trial, frame)\n",
    "        trial += 1\n",
    "        frame += 1\n",
    "        if abs(red_rod - blue_rod) > 2: break\n",
    "    conf = configurations[(red_rod, blue_rod)]\n",
    "    counts[conf] += 1\n",
    "for conf in counts:\n",
    "    print conf, counts[conf] / float(n_runs)"
   ]
  },
  {
   "cell_type": "markdown",
   "metadata": {},
   "source": [
    "## Equiprobability\n",
    "![caption](equiprob.png)\n",
    "\n",
    "Using small boxes [x - del_xy, x + del_xy], etc, we can show that the probability to sample the following \"marked\" configurations a, b, and c (given in the code) are the same (within the numerical precision), with the following codes for direct sampling, Markov-chain sampling, and simulation of Newtonian mechanics via the event driven algorithm."
   ]
  },
  {
   "cell_type": "markdown",
   "metadata": {},
   "source": [
    "### Direct sampling:"
   ]
  },
  {
   "cell_type": "code",
   "execution_count": 3,
   "metadata": {},
   "outputs": [
    {
     "name": "stdout",
     "output_type": "stream",
     "text": [
      "((0.3, 0.3), (0.3, 0.7), (0.7, 0.3), (0.7, 0.7)) 110\n",
      "((0.2, 0.2), (0.2, 0.8), (0.75, 0.25), (0.75, 0.75)) 114\n",
      "((0.3, 0.2), (0.3, 0.8), (0.7, 0.2), (0.7, 0.7)) 115\n"
     ]
    }
   ],
   "source": [
    "import random, math\n",
    "def direct_disks_box(N, sigma): #same direct sampling as in the second section\n",
    "    condition = False\n",
    "    while condition == False:\n",
    "        L = [(random.uniform(sigma, 1.0 - sigma), random.uniform(sigma, 1.0 - sigma))]\n",
    "        for k in range(1, N):\n",
    "            a = (random.uniform(sigma, 1.0 - sigma), random.uniform(sigma, 1.0 - sigma))\n",
    "            min_dist = min(math.sqrt((a[0] - b[0]) ** 2 + (a[1] - b[1]) ** 2) for b in L)\n",
    "            if min_dist < 2.0 * sigma:\n",
    "                condition = False\n",
    "                break\n",
    "            else:\n",
    "                L.append(a)\n",
    "                condition = True\n",
    "    return L\n",
    "\n",
    "sigma = 0.15 #radius\n",
    "del_xy = 0.05 #\"uncertainty\"\n",
    "n_runs = 1000000\n",
    "\n",
    "#Define the \"marked\" configurations:\n",
    "conf_a = ((0.30, 0.30), (0.30, 0.70), (0.70, 0.30), (0.70,0.70))\n",
    "conf_b = ((0.20, 0.20), (0.20, 0.80), (0.75, 0.25), (0.75,0.75))\n",
    "conf_c = ((0.30, 0.20), (0.30, 0.80), (0.70, 0.20), (0.70,0.70))\n",
    "configurations = [conf_a, conf_b, conf_c] #list the configurations\n",
    "\n",
    "hits = {conf_a: 0, conf_b: 0, conf_c: 0} #initialise the number of times each marked configuration occurs\n",
    "\n",
    "for run in range(n_runs):\n",
    "    x_vec = direct_disks_box(4, sigma) #generates a random sample by direct sampling\n",
    "    for conf in configurations: #run a loop iterating over the given 3 configurations\n",
    "    #condition that a randomly generated configuration L is the same as a, b or c up to uncertainty of del_xy\n",
    "        condition_hit = True\n",
    "        for b in conf: #run a loop iterating over the 4 disk coordinates in a specific configuration\n",
    "            #If the max(x distance and y distance between a disk in L and a disk in conf_a,b,c) \n",
    "            #is less than the given uncertainty del_xy, then we treat the two disks as in the same location.\n",
    "            #Note that the \"any two disks\" condition is realised by minimising over all 4 disks in a \n",
    "            #randomly sampled configuration L.\n",
    "            condition_b = min(max(abs(a[0] - b[0]), abs(a[1] - b[1])) for a in x_vec) < del_xy  \n",
    "            #The following logical variable is 1 only if there exists 4 disk pairs are within del_xy range.\n",
    "            #If at least any one of the disks does not have a pair within del_xy, then it is 0.\n",
    "            condition_hit *= condition_b #multiplies condition_b's (for all 4 disks)\n",
    "        #If the current L and a, b or c are the same up to uncertainty del_xy, then increase:\n",
    "        if condition_hit:\n",
    "            hits[conf] += 1\n",
    "\n",
    "for conf in configurations:\n",
    "    print conf, hits[conf] #Print the configurations and the number of times they occured."
   ]
  },
  {
   "cell_type": "markdown",
   "metadata": {},
   "source": [
    "### Markov-chain sampling:"
   ]
  },
  {
   "cell_type": "code",
   "execution_count": 13,
   "metadata": {},
   "outputs": [
    {
     "name": "stdout",
     "output_type": "stream",
     "text": [
      "((0.3, 0.3), (0.3, 0.7), (0.7, 0.3), (0.7, 0.7)) 3\n",
      "((0.2, 0.2), (0.2, 0.8), (0.75, 0.25), (0.75, 0.75)) 1\n",
      "((0.3, 0.2), (0.3, 0.8), (0.7, 0.2), (0.7, 0.7)) 0\n"
     ]
    }
   ],
   "source": [
    "import random\n",
    "\n",
    "def markov_disks_box(L, delta, sigma):\n",
    "    condition = True\n",
    "    while condition == True:\n",
    "        a = random.choice(L)\n",
    "        b = [a[0] + random.uniform(-delta, delta), a[1] + random.uniform(-delta, delta)]\n",
    "        min_dist = min((b[0] - c[0]) ** 2 + (b[1] - c[1]) ** 2 for c in L if c != a)\n",
    "        box_cond = min(b[0], b[1]) < sigma or max(b[0], b[1]) > 1.0 - sigma\n",
    "        if not (box_cond or min_dist < 4.0 * sigma ** 2):\n",
    "            a[:] = b\n",
    "            condition = False\n",
    "            break\n",
    "    return L\n",
    "\n",
    "#inputs of the markov_disks_box function:\n",
    "#initial positions of the disks to startup the Markov-chain\n",
    "L = [[0.25, 0.25], [0.75, 0.25], [0.25, 0.75], [0.75, 0.75]] \n",
    "delta = 0.1\n",
    "sigma = 0.15 #radius\n",
    "\n",
    "n_steps = 10000\n",
    "del_xy = 0.05 #\"uncertainty\"\n",
    "\n",
    "#Define the \"marked\" configurations:\n",
    "conf_a = ((0.30, 0.30), (0.30, 0.70), (0.70, 0.30), (0.70,0.70))\n",
    "conf_b = ((0.20, 0.20), (0.20, 0.80), (0.75, 0.25), (0.75,0.75))\n",
    "conf_c = ((0.30, 0.20), (0.30, 0.80), (0.70, 0.20), (0.70,0.70))\n",
    "configurations = [conf_a, conf_b, conf_c] #list the configurations\n",
    "\n",
    "hits = {conf_a: 0, conf_b: 0, conf_c: 0} #initialise the number of times each marked configuration occurs\n",
    "\n",
    "for run in range(n_steps):\n",
    "    x_vec = markov_disks_box(L, delta, sigma) #generates a random sample by direct sampling\n",
    "    for conf in configurations: #run a loop iterating over the given 3 configurations\n",
    "    #condition that a randomly generated configuration L is the same as a, b or c up to uncertainty of del_xy\n",
    "        condition_hit = True\n",
    "        for b in conf: #run a loop iterating over the 4 disk coordinates in a specific configuration\n",
    "            #If the max(x distance and y distance between a disk in L and a disk in conf_a,b,c) \n",
    "            #is less than the given uncertainty del_xy, then we treat the two disks as in the same location.\n",
    "            #Note that the \"any two disks\" condition is realised by minimising over all 4 disks in a \n",
    "            #randomly sampled configuration L.\n",
    "            condition_b = min(max(abs(a[0] - b[0]), abs(a[1] - b[1])) for a in x_vec) < del_xy  \n",
    "            #The following logical variable is 1 only if there exists 4 disk pairs are within del_xy range.\n",
    "            #If at least any one of the disks does not have a pair within del_xy, then it is 0.\n",
    "            condition_hit *= condition_b #multiplies condition_b's (for all 4 disks)\n",
    "        #If the current L and a, b or c are the same up to uncertainty del_xy, then increase:\n",
    "        if condition_hit:\n",
    "            hits[conf] += 1\n",
    "\n",
    "for conf in configurations:\n",
    "    print conf, hits[conf] #Print the configurations and the number of times they occured."
   ]
  },
  {
   "cell_type": "markdown",
   "metadata": {},
   "source": [
    "### Newtonian dynamics"
   ]
  },
  {
   "cell_type": "code",
   "execution_count": 12,
   "metadata": {},
   "outputs": [
    {
     "name": "stdout",
     "output_type": "stream",
     "text": [
      "0\n",
      "100000\n",
      "200000\n",
      "300000\n",
      "400000\n",
      "500000\n",
      "600000\n",
      "700000\n",
      "800000\n",
      "900000\n",
      "1000000\n",
      "1100000\n",
      "1200000\n",
      "1300000\n",
      "1400000\n",
      "1500000\n",
      "1600000\n",
      "1700000\n",
      "1800000\n",
      "1900000\n",
      "2000000\n",
      "2100000\n",
      "2200000\n",
      "2300000\n",
      "2400000\n",
      "2500000\n",
      "2600000\n",
      "2700000\n",
      "2800000\n",
      "2900000\n",
      "3000000\n",
      "3100000\n",
      "3200000\n",
      "3300000\n",
      "3400000\n",
      "3500000\n",
      "3600000\n",
      "3700000\n",
      "3800000\n",
      "3900000\n",
      "4000000\n",
      "4100000\n",
      "4200000\n",
      "4300000\n",
      "4400000\n",
      "4500000\n",
      "4600000\n",
      "4700000\n",
      "4800000\n",
      "4900000\n",
      "611527.898476\n",
      "((0.3, 0.3), (0.3, 0.7), (0.7, 0.3), (0.7, 0.7)) 668\n",
      "((0.2, 0.2), (0.2, 0.8), (0.75, 0.25), (0.75, 0.75)) 690\n",
      "((0.3, 0.2), (0.3, 0.8), (0.7, 0.2), (0.7, 0.7)) 655\n"
     ]
    }
   ],
   "source": [
    "import math, pylab\n",
    "\n",
    "def wall_time(pos_a, vel_a, sigma):\n",
    "    if vel_a > 0.0:\n",
    "        del_t = (1.0 - sigma - pos_a) / vel_a\n",
    "    elif vel_a < 0.0:\n",
    "        del_t = (pos_a - sigma) / abs(vel_a)\n",
    "    else:\n",
    "        del_t = float('inf')\n",
    "    return del_t\n",
    "\n",
    "def pair_time(pos_a, vel_a, pos_b, vel_b, sigma):\n",
    "    del_x = [pos_b[0] - pos_a[0], pos_b[1] - pos_a[1]]\n",
    "    del_x_sq = del_x[0] ** 2 + del_x[1] ** 2\n",
    "    del_v = [vel_b[0] - vel_a[0], vel_b[1] - vel_a[1]]\n",
    "    del_v_sq = del_v[0] ** 2 + del_v[1] ** 2\n",
    "    scal = del_v[0] * del_x[0] + del_v[1] * del_x[1]\n",
    "    Upsilon = scal ** 2 - del_v_sq * ( del_x_sq - 4.0 * sigma **2)\n",
    "    if Upsilon > 0.0 and scal < 0.0:\n",
    "        del_t = - (scal + math.sqrt(Upsilon)) / del_v_sq\n",
    "    else:\n",
    "        del_t = float('inf')\n",
    "    return del_t\n",
    "\n",
    "conf_a = ((0.30, 0.30), (0.30, 0.70), (0.70, 0.30), (0.70,0.70))\n",
    "conf_b = ((0.20, 0.20), (0.20, 0.80), (0.75, 0.25), (0.75,0.75))\n",
    "conf_c = ((0.30, 0.20), (0.30, 0.80), (0.70, 0.20), (0.70,0.70))\n",
    "configurations = [conf_a, conf_b, conf_c]\n",
    "hits = {conf_a: 0, conf_b: 0, conf_c: 0}\n",
    "del_xy = 0.10\n",
    "pos = [[0.25, 0.25], [0.75, 0.25], [0.25, 0.75], [0.75, 0.75]]\n",
    "vel = [[0.21, 0.12], [0.71, 0.18], [-0.23, -0.79], [0.78, 0.1177]]\n",
    "singles = [(0, 0), (0, 1), (1, 0), (1, 1), (2, 0), (2, 1), (3, 0), (3, 1)]\n",
    "pairs = [(0, 1), (0, 2), (0, 3), (1, 2), (1, 3), (2, 3)]\n",
    "sigma = 0.10\n",
    "t = 0.0\n",
    "n_events = 5000000\n",
    "for event in range(n_events):\n",
    "    if event % 100000 == 0:\n",
    "        print event\n",
    "    wall_times = [wall_time(pos[k][l], vel[k][l], sigma) for k, l  in singles]\n",
    "    pair_times = [pair_time(pos[k], vel[k], pos[l], vel[l], sigma) for k, l in pairs]\n",
    "    next_event = min(wall_times + pair_times)\n",
    "    t_previous = t\n",
    "    for inter_times in range(int(t + 1), int(t + next_event + 1)):\n",
    "        del_t = inter_times - t_previous\n",
    "        for k, l in singles:\n",
    "            pos[k][l] += vel[k][l] * del_t\n",
    "        t_previous = inter_times\n",
    "        #print t \"Configuration analysis is done\"\n",
    "        for conf in configurations:\n",
    "            condition_hit = True\n",
    "            for b in conf:\n",
    "                condition_b = min(max(abs(a[0] - b[0]), abs(a[1] - b[1])) for a in pos) < del_xy\n",
    "                condition_hit *= condition_b\n",
    "            if condition_hit:\n",
    "                hits[conf] += 1\n",
    "    t += next_event\n",
    "    del_t = t - t_previous\n",
    "    for k, l in singles:\n",
    "        pos[k][l] += vel[k][l] * del_t\n",
    "    if min(wall_times) < min(pair_times):\n",
    "        collision_disk, direction = singles[wall_times.index(next_event)]\n",
    "        vel[collision_disk][direction] *= -1.0\n",
    "    else:\n",
    "        a, b = pairs[pair_times.index(next_event)]\n",
    "        del_x = [pos[b][0] - pos[a][0], pos[b][1] - pos[a][1]]\n",
    "        abs_x = math.sqrt(del_x[0] ** 2 + del_x[1] ** 2)\n",
    "        e_perp = [c / abs_x for c in del_x]\n",
    "        del_v = [vel[b][0] - vel[a][0], vel[b][1] - vel[a][1]]\n",
    "        scal = del_v[0] * e_perp[0] + del_v[1] * e_perp[1]\n",
    "        for k in range(2):\n",
    "            vel[a][k] += e_perp[k] * scal\n",
    "            vel[b][k] -= e_perp[k] * scal\n",
    "            \n",
    "print t, \"The total running time of the program\"\n",
    "\n",
    "for conf in configurations:\n",
    "    print conf, hits[conf]"
   ]
  },
  {
   "cell_type": "markdown",
   "metadata": {},
   "source": [
    "### Calculations in terms of observables"
   ]
  },
  {
   "cell_type": "markdown",
   "metadata": {},
   "source": [
    "Instead of the configurations themselves, and their probability distribution, we now consider an observable, in fact a particularly simple one, the position x: the x-coordinate of the center of a disk. We will compute its probability distribution, as the normed histogram of x-positions. This histogram is the same for all disks, so we can collect data for one disk or for all of them.\n",
    "\n",
    "*Direct sampling:* "
   ]
  },
  {
   "cell_type": "code",
   "execution_count": 14,
   "metadata": {},
   "outputs": [
    {
     "name": "stdout",
     "output_type": "stream",
     "text": [
      "Populating the interactive namespace from numpy and matplotlib\n"
     ]
    },
    {
     "name": "stderr",
     "output_type": "stream",
     "text": [
      "/anaconda3/envs/python2/lib/python2.7/site-packages/IPython/core/magics/pylab.py:161: UserWarning: pylab import has clobbered these variables: ['pylab', 'random']\n",
      "`%matplotlib` prevents importing * from pylab and numpy\n",
      "  \"\\n`%matplotlib` prevents importing * from pylab and numpy\"\n"
     ]
    },
    {
     "data": {
      "image/png": "[encoded data removed]",
      "text/plain": [
       "<Figure size 432x288 with 1 Axes>"
      ]
     },
     "metadata": {},
     "output_type": "display_data"
    }
   ],
   "source": [
    "%pylab inline\n",
    "import random, pylab\n",
    "\n",
    "N = 4\n",
    "sigma = 0.1197\n",
    "n_runs = 1000000\n",
    "\n",
    "histo_data = []\n",
    "for run in range(n_runs):\n",
    "    pos = direct_disks_box(N, sigma) #this function was defined in the previous section\n",
    "    for k in range(N):\n",
    "        histo_data.append(pos[k][0])\n",
    "pylab.hist(histo_data, bins=100, normed=True)\n",
    "pylab.xlabel('x')\n",
    "pylab.ylabel('frequency')\n",
    "pylab.title('Direct sampling: x coordinate histogram (density eta=0.18)')\n",
    "pylab.grid()\n",
    "pylab.savefig('direct_disks_histo.png')\n",
    "pylab.show()"
   ]
  },
  {
   "cell_type": "markdown",
   "metadata": {},
   "source": [
    "*Markov-chain sampling:*"
   ]
  },
  {
   "cell_type": "code",
   "execution_count": 7,
   "metadata": {},
   "outputs": [
    {
     "name": "stdout",
     "output_type": "stream",
     "text": [
      "Populating the interactive namespace from numpy and matplotlib\n"
     ]
    },
    {
     "name": "stderr",
     "output_type": "stream",
     "text": [
      "/anaconda3/envs/python2/lib/python2.7/site-packages/matplotlib/axes/_axes.py:6462: UserWarning: The 'normed' kwarg is deprecated, and has been replaced by the 'density' kwarg.\n",
      "  warnings.warn(\"The 'normed' kwarg is deprecated, and has been \"\n"
     ]
    },
    {
     "data": {
      "image/png": "[encoded data removed]",
      "text/plain": [
       "<Figure size 432x288 with 1 Axes>"
      ]
     },
     "metadata": {},
     "output_type": "display_data"
    }
   ],
   "source": [
    "%pylab inline\n",
    "import random, pylab\n",
    "\n",
    "L = [[0.25, 0.25], [0.75, 0.25], [0.25, 0.75], [0.75, 0.75]] \n",
    "delta = 0.2 #may need to be varied\n",
    "sigma = 0.1197\n",
    "N=4\n",
    "\n",
    "n_steps = 2000000\n",
    "\n",
    "histo_data = []\n",
    "for steps in range(n_steps):\n",
    "    pos = markov_disks_box(L, delta, sigma) #this function was defined in the previous section\n",
    "    for k in range(N):\n",
    "        histo_data.append(pos[k][0])\n",
    "pylab.hist(histo_data, bins=100, normed=True)\n",
    "pylab.xlabel('x')\n",
    "pylab.ylabel('frequency')\n",
    "pylab.title('Markov sampling: x coordinate histogram (density eta=0.18)')\n",
    "pylab.grid()\n",
    "pylab.savefig('markov_disks_histo.png')\n",
    "pylab.show()"
   ]
  },
  {
   "cell_type": "markdown",
   "metadata": {},
   "source": [
    "*Event drivent Newtonian dynamics:*"
   ]
  },
  {
   "cell_type": "code",
   "execution_count": 9,
   "metadata": {},
   "outputs": [
    {
     "name": "stdout",
     "output_type": "stream",
     "text": [
      "0\n",
      "100000\n",
      "200000\n",
      "300000\n",
      "400000\n",
      "500000\n",
      "600000\n",
      "700000\n",
      "800000\n",
      "900000\n",
      "1000000\n",
      "1100000\n",
      "1200000\n",
      "1300000\n",
      "1400000\n",
      "1500000\n",
      "1600000\n",
      "1700000\n",
      "1800000\n",
      "1900000\n",
      "2000000\n",
      "2100000\n",
      "2200000\n",
      "2300000\n",
      "2400000\n",
      "2500000\n",
      "2600000\n",
      "2700000\n",
      "2800000\n",
      "2900000\n",
      "3000000\n",
      "3100000\n",
      "3200000\n",
      "3300000\n",
      "3400000\n",
      "3500000\n",
      "3600000\n",
      "3700000\n",
      "3800000\n",
      "3900000\n",
      "4000000\n",
      "4100000\n",
      "4200000\n",
      "4300000\n",
      "4400000\n",
      "4500000\n",
      "4600000\n",
      "4700000\n",
      "4800000\n",
      "4900000\n",
      "485918.792042 The total running time of the program\n"
     ]
    },
    {
     "data": {
      "image/png": "[encoded data removed]",
      "text/plain": [
       "<Figure size 432x288 with 1 Axes>"
      ]
     },
     "metadata": {},
     "output_type": "display_data"
    }
   ],
   "source": [
    "import math, pylab\n",
    "\n",
    "def wall_time(pos_a, vel_a, sigma):\n",
    "    if vel_a > 0.0:\n",
    "        del_t = (1.0 - sigma - pos_a) / vel_a\n",
    "    elif vel_a < 0.0:\n",
    "        del_t = (pos_a - sigma) / abs(vel_a)\n",
    "    else:\n",
    "        del_t = float('inf')\n",
    "    return del_t\n",
    "\n",
    "def pair_time(pos_a, vel_a, pos_b, vel_b, sigma):\n",
    "    del_x = [pos_b[0] - pos_a[0], pos_b[1] - pos_a[1]]\n",
    "    del_x_sq = del_x[0] ** 2 + del_x[1] ** 2\n",
    "    del_v = [vel_b[0] - vel_a[0], vel_b[1] - vel_a[1]]\n",
    "    del_v_sq = del_v[0] ** 2 + del_v[1] ** 2\n",
    "    scal = del_v[0] * del_x[0] + del_v[1] * del_x[1]\n",
    "    Upsilon = scal ** 2 - del_v_sq * ( del_x_sq - 4.0 * sigma **2)\n",
    "    if Upsilon > 0.0 and scal < 0.0:\n",
    "        del_t = - (scal + math.sqrt(Upsilon)) / del_v_sq\n",
    "    else:\n",
    "        del_t = float('inf')\n",
    "    return del_t\n",
    "\n",
    "#define the marked conditions\n",
    "conf_a = ((0.30, 0.30), (0.30, 0.70), (0.70, 0.30), (0.70,0.70))\n",
    "conf_b = ((0.20, 0.20), (0.20, 0.80), (0.75, 0.25), (0.75,0.75))\n",
    "conf_c = ((0.30, 0.20), (0.30, 0.80), (0.70, 0.20), (0.70,0.70))\n",
    "configurations = [conf_a, conf_b, conf_c]\n",
    "\n",
    "#initial conditions\n",
    "pos = [[0.25, 0.25], [0.75, 0.25], [0.25, 0.75], [0.75, 0.75]] \n",
    "vel = [[0.21, 0.12], [0.71, 0.18], [-0.23, -0.79], [0.78, 0.1177]]\n",
    "\n",
    "singles = [(0, 0), (0, 1), (1, 0), (1, 1), (2, 0), (2, 1), (3, 0), (3, 1)]\n",
    "pairs = [(0, 1), (0, 2), (0, 3), (1, 2), (1, 3), (2, 3)]\n",
    "\n",
    "sigma = 0.1197 #radius\n",
    "n_events = 5000000 \n",
    "\n",
    "t = 0.0 #initialise time\n",
    "histo_data = [] #initialise histogram\n",
    "for event in range(n_events):\n",
    "    if event % 100000 == 0:\n",
    "        print event\n",
    "    wall_times = [wall_time(pos[k][l], vel[k][l], sigma) for k, l  in singles]\n",
    "    pair_times = [pair_time(pos[k], vel[k], pos[l], vel[l], sigma) for k, l in pairs]\n",
    "    next_event = min(wall_times + pair_times)\n",
    "    t_previous = t\n",
    "    for inter_times in range(int(t + 1), int(t + next_event + 1)):\n",
    "        del_t = inter_times - t_previous\n",
    "        for k, l in singles:\n",
    "            pos[k][l] += vel[k][l] * del_t\n",
    "        t_previous = inter_times\n",
    "        \n",
    "        #histogram update\n",
    "        for k in range(N):\n",
    "            histo_data.append(pos[k][0]) #take the histogram of the x (0th) coordinate\n",
    "        \n",
    "    t += next_event\n",
    "    del_t = t - t_previous\n",
    "    for k, l in singles:\n",
    "        pos[k][l] += vel[k][l] * del_t\n",
    "    if min(wall_times) < min(pair_times):\n",
    "        collision_disk, direction = singles[wall_times.index(next_event)]\n",
    "        vel[collision_disk][direction] *= -1.0\n",
    "    else:\n",
    "        a, b = pairs[pair_times.index(next_event)]\n",
    "        del_x = [pos[b][0] - pos[a][0], pos[b][1] - pos[a][1]]\n",
    "        abs_x = math.sqrt(del_x[0] ** 2 + del_x[1] ** 2)\n",
    "        e_perp = [c / abs_x for c in del_x]\n",
    "        del_v = [vel[b][0] - vel[a][0], vel[b][1] - vel[a][1]]\n",
    "        scal = del_v[0] * e_perp[0] + del_v[1] * e_perp[1]\n",
    "        for k in range(2):\n",
    "            vel[a][k] += e_perp[k] * scal\n",
    "            vel[b][k] -= e_perp[k] * scal\n",
    "            \n",
    "print t, \"The total running time of the program\"\n",
    "\n",
    "#figure output\n",
    "pylab.hist(histo_data, bins=100, normed=True)\n",
    "pylab.xlabel('x')\n",
    "pylab.ylabel('frequency')\n",
    "pylab.title('Event driven Newtonian simulation: x coordinate histogram (density eta=0.18)')\n",
    "pylab.grid()\n",
    "pylab.savefig('event_disks_histo.png')\n",
    "pylab.show()"
   ]
  },
  {
   "cell_type": "markdown",
   "metadata": {},
   "source": [
    "We see that event driven Newtonian dynamics, direct and Markov-chain sampling give the same histogram for the x-position of the disks. *This is a hint for the equivalence between statistical mechanics and Newtonian mechanics.*"
   ]
  }
 ],
 "metadata": {
  "kernelspec": {
   "display_name": "Python 3",
   "language": "python",
   "name": "python3"
  },
  "language_info": {
   "codemirror_mode": {
    "name": "ipython",
    "version": 3
   },
   "file_extension": ".py",
   "mimetype": "text/x-python",
   "name": "python",
   "nbconvert_exporter": "python",
   "pygments_lexer": "ipython3",
   "version": "3.7.3"
  }
 },
 "nbformat": 4,
 "nbformat_minor": 2
}
