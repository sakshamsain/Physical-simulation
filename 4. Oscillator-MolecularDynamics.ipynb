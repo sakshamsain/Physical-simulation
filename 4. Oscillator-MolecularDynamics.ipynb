{
 "cells": [
  {
   "cell_type": "markdown",
   "metadata": {},
   "source": [
    "## Harmonic Oscillator using HMC"
   ]
  },
  {
   "cell_type": "markdown",
   "metadata": {},
   "source": [
    "### Import the Library"
   ]
  },
  {
   "cell_type": "code",
   "execution_count": 7,
   "metadata": {},
   "outputs": [],
   "source": [
    "'''import section'''\n",
    "import numpy as np\n",
    "import matplotlib.pyplot as plt\n",
    "import math as  math\n",
    "import random as random\n",
    "import seaborn as sns\n",
    "sns.set()"
   ]
  },
  {
   "cell_type": "markdown",
   "metadata": {},
   "source": [
    "We want to apply HMC to collection of 100 independent Harmonic Oscillator to get equilibrium configuration."
   ]
  },
  {
   "cell_type": "markdown",
   "metadata": {},
   "source": [
    "### Hamiltonian"
   ]
  },
  {
   "cell_type": "markdown",
   "metadata": {},
   "source": [
    "Hamiltonian of Harmonic Oscillator in 1D is:\n",
    "\n",
    "\\\\( H = \\frac{1}{2} p^{2} + \\frac{1}{2}q^{2}\\\\)  with \\\\( m = 1,k = 1\\\\)"
   ]
  },
  {
   "cell_type": "markdown",
   "metadata": {},
   "source": [
    "This function calculates the  total Hamiltonian of the configuration\n"
   ]
  },
  {
   "cell_type": "code",
   "execution_count": 9,
   "metadata": {},
   "outputs": [],
   "source": [
    "def hamiltonian(x,p,np):\n",
    "    '''x,p: x and p are list of position and momentum'''\n",
    "    '''np : number of particles in the system '''\n",
    "    H = 0.0\n",
    "    for k in range(np):\n",
    "            H = H + ((x[k]*x[k])/2.0 + (p[k]*p[k])/2.0 )\n",
    "    return H      "
   ]
  },
  {
   "cell_type": "markdown",
   "metadata": {},
   "source": [
    "### Generating Random Momentum"
   ]
  },
  {
   "cell_type": "markdown",
   "metadata": {},
   "source": [
    "In order to generate random momentum we use \"random.gauss\""
   ]
  },
  {
   "cell_type": "code",
   "execution_count": 10,
   "metadata": {},
   "outputs": [],
   "source": [
    "def drawp(np):\n",
    "    '''this function returns a list of random numbers'''\n",
    "    t = [0.0 for k in range(np)]\n",
    "    for k in range(np):\n",
    "        r = random.gauss(0.0,1.0)\n",
    "        t[k] = r\n",
    "    return(t)       "
   ]
  },
  {
   "cell_type": "markdown",
   "metadata": {},
   "source": [
    "One can check whether the generated numbers are normally distributed or not by doing:"
   ]
  },
  {
   "cell_type": "code",
   "execution_count": 13,
   "metadata": {},
   "outputs": [
    {
     "data": {
      "image/png": "[encoded data removed]",
      "text/plain": [
       "<Figure size 720x432 with 1 Axes>"
      ]
     },
     "metadata": {},
     "output_type": "display_data"
    }
   ],
   "source": [
    "N = 100000 \n",
    "p = [0.0 for k in range(N)]\n",
    "p = drawp(N)\n",
    "num_bins = 100\n",
    "plt.figure(figsize = [10,6])\n",
    "plt.hist(p,num_bins, density= 1.0, facecolor='green', alpha = 0.5)\n",
    "plt.show()"
   ]
  },
  {
   "cell_type": "markdown",
   "metadata": {
    "collapsed": true
   },
   "source": [
    "### Leap Frog "
   ]
  },
  {
   "cell_type": "markdown",
   "metadata": {},
   "source": [
    "We will use leap frog approximation to evolve the system according to time."
   ]
  },
  {
   "cell_type": "code",
   "execution_count": 14,
   "metadata": {},
   "outputs": [],
   "source": [
    "def leap_frog(N,dt,ix,ip,np):\n",
    "    \n",
    "        ''' N : number of steps to evolve\n",
    "            dt:  fraction of time ie T  = dt*N\n",
    "            ix,ip : initial position and momentum\n",
    "            np : number of the particles in the system\n",
    "        '''\n",
    "        ''' Returns\n",
    "          x,p : final position and momentum'''   \n",
    "    \n",
    "    \n",
    "        x = ix\n",
    "        p = ip\n",
    "        k = 0\n",
    "        while k < N:\n",
    "            if k == 0:\n",
    "                    for i in range(np):\n",
    "                        p[i] = p[i] - ((dt/2.0)*x[i])\n",
    "            elif k > 0 :\n",
    "                    if k < N - 1:\n",
    "                        for i in range(np):   \n",
    "                            x[i] = x[i] + (dt*p[i])\n",
    "                            p[i] =   p[i] - (dt*x[i])\n",
    "                            #S1 = hamiltonian(x,p,np)\n",
    "                            #print \"k =\",k,\"S1=\",S1\n",
    "                            \n",
    "            elif k == N - 1:\n",
    "                          for i in range(np): \n",
    "                            p[i] = (p[i] - (dt/2.0)*x[i])\n",
    "                       \n",
    "            k = k+1\n",
    "        return x,p"
   ]
  },
  {
   "cell_type": "markdown",
   "metadata": {},
   "source": [
    "### HMC"
   ]
  },
  {
   "cell_type": "markdown",
   "metadata": {},
   "source": [
    "Here we run the HMC - simulation"
   ]
  },
  {
   "cell_type": "code",
   "execution_count": 21,
   "metadata": {},
   "outputs": [],
   "source": [
    "def HMC(np,N,dt,steps,x0):\n",
    "    \n",
    "    ''' np : number of particles in the system\n",
    "        N = number of steps in Leap - Frog\n",
    "        dt = fraction of time in Leap - Frog\n",
    "        steps: total steps in HMC '''\n",
    "    \n",
    "    \n",
    "       \n",
    "    xt = [0.0 for k in range(np)]\n",
    "    pt = [0.0 for k in range(np)]\n",
    "\n",
    "    \n",
    "    p0 = drawp(np)\n",
    "    H = [0.0 for k in range(steps)]\n",
    "       \n",
    "    S0 = hamiltonian(x0,p0,np)\n",
    "    #print (\"=======>\", 0,\"S0=\", S0)\n",
    "\n",
    "\n",
    "\n",
    "    chain = 1\n",
    "    total_frac =  0.0\n",
    "    while chain < steps:\n",
    "        s_stor = [0.0]\n",
    "        xt,pt = leap_frog(N,dt,x0,p0,np)\n",
    "        S1 = hamiltonian(xt,pt,np)\n",
    "        frac = math.exp(-(S1-S0))\n",
    "        #print frac\n",
    "        a = min(1,frac)\n",
    "        b = random.uniform(0.0,1.0)\n",
    "\n",
    "        if b < a:\n",
    "            #print(\"=======>\", chain, \"S1=\",S1,frac,a,b)\n",
    "            H[chain] = S1\n",
    "            x0 = xt\n",
    "            p0 = drawp(np)\n",
    "            S0 = hamiltonian(x0,p0,np)\n",
    "        else:\n",
    "            H[chain] = S0\n",
    "            p0 = drawp(np)\n",
    "            \n",
    "        chain = chain+1\n",
    "            \n",
    "    return H   "
   ]
  },
  {
   "cell_type": "markdown",
   "metadata": {},
   "source": [
    "### Seting Constants"
   ]
  },
  {
   "cell_type": "code",
   "execution_count": 22,
   "metadata": {},
   "outputs": [],
   "source": [
    "np = 1000\n",
    "N = 1000\n",
    "dt = 0.001\n",
    "steps = 100"
   ]
  },
  {
   "cell_type": "markdown",
   "metadata": {},
   "source": [
    "Call HMC"
   ]
  },
  {
   "cell_type": "code",
   "execution_count": 23,
   "metadata": {},
   "outputs": [],
   "source": [
    "x0 = [1.0 for k in range(np)]\n",
    "x0 = [random.uniform(0.0,1.0) for k in range(np)]\n",
    "H = HMC(np,N,dt,steps,x0)  "
   ]
  },
  {
   "cell_type": "markdown",
   "metadata": {},
   "source": [
    "### Plot"
   ]
  },
  {
   "cell_type": "code",
   "execution_count": 20,
   "metadata": {},
   "outputs": [
    {
     "data": {
      "image/png": "[encoded data removed]",
      "text/plain": [
       "<Figure size 1080x288 with 1 Axes>"
      ]
     },
     "metadata": {},
     "output_type": "display_data"
    }
   ],
   "source": [
    "t = [1.0*k for k in range (steps)] \n",
    "plt.figure(figsize = [15,4])\n",
    "plt.scatter(t,H)\n",
    "plt.show()"
   ]
  },
  {
   "cell_type": "code",
   "execution_count": null,
   "metadata": {},
   "outputs": [],
   "source": []
  }
 ],
 "metadata": {
  "kernelspec": {
   "display_name": "Python 3",
   "language": "python",
   "name": "python3"
  },
  "language_info": {
   "codemirror_mode": {
    "name": "ipython",
    "version": 3
   },
   "file_extension": ".py",
   "mimetype": "text/x-python",
   "name": "python",
   "nbconvert_exporter": "python",
   "pygments_lexer": "ipython3",
   "version": "3.7.3"
  }
 },
 "nbformat": 4,
 "nbformat_minor": 1
}
